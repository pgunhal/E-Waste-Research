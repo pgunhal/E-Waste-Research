{
 "cells": [
  {
   "cell_type": "markdown",
   "id": "b2c93e27",
   "metadata": {},
   "source": [
    "## HS Codes Scraping By Metal ##\n",
    "A script to find all relevant HS codes for a given keyword (metal)\n",
    "The results are written to data/<metal_name> in the form of raw HS codes and trade data"
   ]
  },
  {
   "cell_type": "code",
   "execution_count": null,
   "id": "478a8d1d-3d4e-4fe9-b612-e99f9a02bd7a",
   "metadata": {},
   "outputs": [
    {
     "name": "stdout",
     "output_type": "stream",
     "text": [
      "\n",
      "=== Processing keyword: Earth-metals, rare ===\n",
      "Saved 1 HS codes for Earth-metals, rare\n",
      "Included rows from BACI_HS12_Y2012_V202501.csv\n",
      "Included rows from BACI_HS12_Y2013_V202501.csv\n",
      "Included rows from BACI_HS12_Y2014_V202501.csv\n",
      "Included rows from BACI_HS12_Y2015_V202501.csv\n",
      "Included rows from BACI_HS12_Y2016_V202501.csv\n",
      "Included rows from BACI_HS12_Y2017_V202501.csv\n",
      "Included rows from BACI_HS12_Y2018_V202501.csv\n",
      "Included rows from BACI_HS12_Y2019_V202501.csv\n",
      "Included rows from BACI_HS12_Y2020_V202501.csv\n",
      "Included rows from BACI_HS12_Y2021_V202501.csv\n",
      "Included rows from BACI_HS12_Y2022_V202501.csv\n",
      "Included rows from BACI_HS12_Y2023_V202501.csv\n",
      "Saved trade data for Earth-metals, rare\n"
     ]
    }
   ],
   "source": [
    "import pandas as pd\n",
    "import os\n",
    "import re\n",
    "\n",
    "base_dir = \"../BACI_HS12_V202501\"\n",
    "reference_file = os.path.join(base_dir, \"product_codes_HS12_V202501.csv\")\n",
    "baci_files = [f for f in os.listdir(base_dir) if f.startswith(\"BACI_HS12_Y\") and f.endswith(\".csv\")]\n",
    "os.makedirs(os.path.join(base_dir, \"outputs\"), exist_ok=True)\n",
    "\n",
    "\n",
    "\n",
    "#get files\n",
    "reference_df = pd.read_csv(reference_file)\n",
    "metal_keywords = [\"copper\", \"gold\", \"silver\", \"aluminium\", \"tin\", \"tungsten\", \"nickel\", \"lithium\", \"cobalt\", \"lead\", \"zinc\", \"rare earth\", \"graphite\", \"antimony\", \"gallium\", \"germanium\", \"indium\", \"tantalum\"]\n",
    "# metal_keywords = [\"Earth-metals, rare\"]\n",
    "\n",
    "#process each metal\n",
    "for metal in metal_keywords:\n",
    "    print(f\"\\n=== Processing keyword: {metal} ===\")\n",
    "    pattern = re.compile(rf\"\\b{re.escape(metal.lower())}\\b\", re.IGNORECASE)\n",
    "\n",
    "    matched_rows = []\n",
    "    for _, row in reference_df.iterrows():\n",
    "        if pattern.search(str(row[\"description\"]).lower()):\n",
    "            matched_rows.append({\n",
    "                \"metal\": metal,\n",
    "                \"hs_code\": int(row[\"code\"]),\n",
    "                \"description\": row[\"description\"]\n",
    "            })\n",
    "\n",
    "    if not matched_rows:\n",
    "        print(f\"No matches for: {metal}\")\n",
    "        continue\n",
    "\n",
    "    metal_df = pd.DataFrame(matched_rows).drop_duplicates()\n",
    "    hs_code_set = set(metal_df[\"hs_code\"])\n",
    "\n",
    "    # Create output directory\n",
    "    metal_output_dir = os.path.join(base_dir, \"data\", metal.lower().replace(\" \", \"_\"))\n",
    "    os.makedirs(metal_output_dir, exist_ok=True)\n",
    "\n",
    "    # Save matched HS codes\n",
    "    metal_df.to_csv(os.path.join(metal_output_dir, \"hs_codes.csv\"), index=False)\n",
    "    print(f\"Saved {len(metal_df)} HS codes for {metal}\")\n",
    "\n",
    "    # extract from each year's file\n",
    "    trade_rows = []\n",
    "    for fname in sorted(baci_files):\n",
    "        fpath = os.path.join(base_dir, fname)\n",
    "        try:\n",
    "            df = pd.read_csv(fpath)\n",
    "            df_filtered = df[df[\"k\"].isin(hs_code_set)].copy()\n",
    "            year_match = re.search(r\"Y(\\d{4})\", fname)\n",
    "            if year_match:\n",
    "                df_filtered[\"year\"] = int(year_match.group(1))\n",
    "            if not df_filtered.empty:\n",
    "                trade_rows.append(df_filtered)\n",
    "                print(f\"Included rows from {fname}\")\n",
    "        except Exception as e:\n",
    "            print(f\"Skipped {fname} due to error: {e}\")\n",
    "\n",
    "    if trade_rows:\n",
    "        combined_df = pd.concat(trade_rows, ignore_index=True)\n",
    "        combined_df.to_csv(os.path.join(metal_output_dir, \"trade_data.csv\"), index=False)\n",
    "        print(f\"Saved trade data for {metal}\")\n",
    "    else:\n",
    "        print(f\"No trade data found for {metal}\")\n"
   ]
  },
  {
   "cell_type": "code",
   "execution_count": null,
   "id": "b20f8b02-a8fe-4086-8ef5-c6b89db01933",
   "metadata": {},
   "outputs": [],
   "source": []
  }
 ],
 "metadata": {
  "kernelspec": {
   "display_name": "Python (venv)",
   "language": "python",
   "name": "venv"
  },
  "language_info": {
   "codemirror_mode": {
    "name": "ipython",
    "version": 3
   },
   "file_extension": ".py",
   "mimetype": "text/x-python",
   "name": "python",
   "nbconvert_exporter": "python",
   "pygments_lexer": "ipython3",
   "version": "3.13.1"
  }
 },
 "nbformat": 4,
 "nbformat_minor": 5
}
