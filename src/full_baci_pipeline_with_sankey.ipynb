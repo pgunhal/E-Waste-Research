{
 "cells": [
  {
   "cell_type": "code",
   "execution_count": 2,
   "id": "9d5539bb",
   "metadata": {},
   "outputs": [],
   "source": [
    "import pandas as pd\n",
    "import matplotlib.pyplot as plt\n",
    "import seaborn as sns\n",
    "import plotly.express as px\n",
    "import geopandas as gpd\n",
    "import folium"
   ]
  },
  {
   "cell_type": "code",
   "execution_count": 3,
   "id": "8269bf6b",
   "metadata": {},
   "outputs": [],
   "source": [
    "# Load data\n",
    "country_codes = pd.read_csv('country_codes_V202501.csv')\n",
    "product_codes = pd.read_csv('product_codes_HS12_V202501.csv')"
   ]
  },
  {
   "cell_type": "code",
   "execution_count": 4,
   "id": "135ffe32",
   "metadata": {},
   "outputs": [],
   "source": [
    "import glob"
   ]
  },
  {
   "cell_type": "code",
   "execution_count": 5,
   "id": "65f54670",
   "metadata": {},
   "outputs": [],
   "source": [
    "# Define the file path pattern (update path as needed)\n",
    "file_pattern = \"BACI_HS12_Y*_V202501.csv\""
   ]
  },
  {
   "cell_type": "code",
   "execution_count": 6,
   "id": "0df35238",
   "metadata": {},
   "outputs": [],
   "source": [
    "# Get a list of all matching files\n",
    "file_list = glob.glob(file_pattern)"
   ]
  },
  {
   "cell_type": "code",
   "execution_count": 7,
   "id": "88664095",
   "metadata": {},
   "outputs": [],
   "source": [
    "# Read and merge all files\n",
    "df_list = [pd.read_csv(file) for file in file_list]\n",
    "df = pd.concat(df_list, ignore_index=True)"
   ]
  },
  {
   "cell_type": "code",
   "execution_count": 8,
   "id": "009d9cfc",
   "metadata": {},
   "outputs": [],
   "source": [
    "# Rename columns for clarity\n",
    "df.columns = ['Year', 'Exporter', 'Importer', 'Product', 'Value', 'Quantity']"
   ]
  },
  {
   "cell_type": "code",
   "execution_count": 9,
   "id": "a6c134bc",
   "metadata": {},
   "outputs": [],
   "source": [
    "# Merge country names\n",
    "df = df.merge(country_codes, left_on='Exporter', right_on='country_code', how='left')\n",
    "df.rename(columns={'country_name': 'Exporter_Name'}, inplace=True)\n",
    "df = df.merge(country_codes, left_on='Importer', right_on='country_code', how='left')\n",
    "df.rename(columns={'country_name': 'Importer_Name'}, inplace=True)"
   ]
  },
  {
   "cell_type": "code",
   "execution_count": 10,
   "id": "3038803a",
   "metadata": {},
   "outputs": [
    {
     "data": {
      "text/html": [
       "<div>\n",
       "<style scoped>\n",
       "    .dataframe tbody tr th:only-of-type {\n",
       "        vertical-align: middle;\n",
       "    }\n",
       "\n",
       "    .dataframe tbody tr th {\n",
       "        vertical-align: top;\n",
       "    }\n",
       "\n",
       "    .dataframe thead th {\n",
       "        text-align: right;\n",
       "    }\n",
       "</style>\n",
       "<table border=\"1\" class=\"dataframe\">\n",
       "  <thead>\n",
       "    <tr style=\"text-align: right;\">\n",
       "      <th></th>\n",
       "      <th>description</th>\n",
       "      <th>Product</th>\n",
       "    </tr>\n",
       "  </thead>\n",
       "  <tbody>\n",
       "    <tr>\n",
       "      <th>0</th>\n",
       "      <td>Horses: live, pure-bred breeding animals</td>\n",
       "      <td>10121</td>\n",
       "    </tr>\n",
       "    <tr>\n",
       "      <th>1</th>\n",
       "      <td>Horses: live, other than pure-bred breeding an...</td>\n",
       "      <td>10129</td>\n",
       "    </tr>\n",
       "    <tr>\n",
       "      <th>2</th>\n",
       "      <td>Asses: live</td>\n",
       "      <td>10130</td>\n",
       "    </tr>\n",
       "    <tr>\n",
       "      <th>3</th>\n",
       "      <td>Mules and hinnies: live</td>\n",
       "      <td>10190</td>\n",
       "    </tr>\n",
       "    <tr>\n",
       "      <th>4</th>\n",
       "      <td>Cattle: live, pure-bred breeding animals</td>\n",
       "      <td>10221</td>\n",
       "    </tr>\n",
       "    <tr>\n",
       "      <th>...</th>\n",
       "      <td>...</td>\n",
       "      <td>...</td>\n",
       "    </tr>\n",
       "    <tr>\n",
       "      <th>5197</th>\n",
       "      <td>Sculptures and statuary: original, in any mate...</td>\n",
       "      <td>970300</td>\n",
       "    </tr>\n",
       "    <tr>\n",
       "      <th>5198</th>\n",
       "      <td>Stamps, postage or revenue: stamp-postmarks, f...</td>\n",
       "      <td>970400</td>\n",
       "    </tr>\n",
       "    <tr>\n",
       "      <th>5199</th>\n",
       "      <td>Collections and collectors' pieces: of zoologi...</td>\n",
       "      <td>970500</td>\n",
       "    </tr>\n",
       "    <tr>\n",
       "      <th>5200</th>\n",
       "      <td>Antiques: of an age exceeding one hundred years</td>\n",
       "      <td>970600</td>\n",
       "    </tr>\n",
       "    <tr>\n",
       "      <th>5201</th>\n",
       "      <td>Commodities not specified according to kind</td>\n",
       "      <td>999999</td>\n",
       "    </tr>\n",
       "  </tbody>\n",
       "</table>\n",
       "<p>5202 rows × 2 columns</p>\n",
       "</div>"
      ],
      "text/plain": [
       "                                            description  Product\n",
       "0              Horses: live, pure-bred breeding animals    10121\n",
       "1     Horses: live, other than pure-bred breeding an...    10129\n",
       "2                                           Asses: live    10130\n",
       "3                               Mules and hinnies: live    10190\n",
       "4              Cattle: live, pure-bred breeding animals    10221\n",
       "...                                                 ...      ...\n",
       "5197  Sculptures and statuary: original, in any mate...   970300\n",
       "5198  Stamps, postage or revenue: stamp-postmarks, f...   970400\n",
       "5199  Collections and collectors' pieces: of zoologi...   970500\n",
       "5200    Antiques: of an age exceeding one hundred years   970600\n",
       "5201        Commodities not specified according to kind   999999\n",
       "\n",
       "[5202 rows x 2 columns]"
      ]
     },
     "execution_count": 10,
     "metadata": {},
     "output_type": "execute_result"
    }
   ],
   "source": [
    "product_codes['Product'] = product_codes['code']\n",
    "product_codes.drop(['code'], axis=1, inplace=True)\n",
    "product_codes"
   ]
  },
  {
   "cell_type": "code",
   "execution_count": 11,
   "id": "38a818fb",
   "metadata": {},
   "outputs": [],
   "source": [
    "df = df.merge(product_codes, on=\"Product\", how=\"left\")"
   ]
  },
  {
   "cell_type": "code",
   "execution_count": 12,
   "id": "5ea3d209",
   "metadata": {},
   "outputs": [],
   "source": [
    "# Filter only the required product codes\n",
    "required_product_codes = [\n",
    "    845110, 845130, 842211, 851660, 845011, 845012, 845019, 845020, 842112, 845121, 845129, 841460, 851621, 851629, 841821,\n",
    "    841822, 841829, 841830, 841840, 841510, 841581, 841582, 841861, 841583, 841850, 841869, 851650, 630110, 841451, 842310,\n",
    "    845210, 850930, 850980, 851640, 910111, 910112, 910119, 910191, 910211, 910212, 910219, 910291, 910310, 910390, 910511,\n",
    "    910521, 910591, 910700, 910811, 910812, 910819, 910820, 910890, 910911, 910919, 850940, 851672, 851679, 851610, 851671,\n",
    "    850811, 850819, 850860, 850910, 851010, 851020, 851030, 851631, 851632, 851633, 846900, 846911, 846912, 846920, 846930,\n",
    "    847010, 847021, 847029, 847110, 847170, 847180, 847190, 854389, 847141, 847149, 847150, 847130, 844331, 844332, 851721,\n",
    "    851722, 851711, 851718, 851719, 851730, 851750, 851769, 851780, 852020, 852790, 903040, 851712, 851761, 851950, 852520,\n",
    "    844312, 844339, 847040, 847050, 847090, 900911, 900912, 900921, 900922, 900930, 852821, 852822, 852841, 852849, 852851,\n",
    "    852859, 853120, 851810, 851830, 852712, 852713, 852719, 852731, 852732, 852739, 852791, 852792, 852799, 847210, 847230,\n",
    "    847290, 851762, 851840, 851850, 851910, 851920, 851921, 851929, 851930, 851931, 851939, 851940, 851981, 851989, 851992,\n",
    "    851993, 851999, 852010, 852032, 852033, 852039, 852090, 852721, 852729, 852110, 852190, 852530, 852560, 852830, 852861,\n",
    "    852869, 852871, 900661, 900669, 900711, 900719, 900720, 900810, 900830, 900840, 901010, 901050, 901060, 903130, 903149,\n",
    "    851821, 851822, 852540, 852580, 852812, 852813, 852873, 852872, 851310, 853941, 853949, 853931, 853932, 853939, 851210,\n",
    "    940510, 940520, 940530, 940540, 846721, 846722, 846729, 850810, 850820, 850880, 850920, 851511, 851519, 851521, 851529,\n",
    "    851531, 843311, 843319, 950300, 950310, 950350, 950490, 950410, 920710, 920790, 902140, 901811, 901812, 901813, 901814,\n",
    "    901819, 901841, 853110, 853180, 854340, 854370, 901730, 902410, 902480, 902519, 902580, 902610, 902620, 902680, 902710,\n",
    "    902780, 903020, 903033, 903039, 903089, 903180, 903210, 901510, 901520, 901530, 901540, 901580, 847629, 847689, 847621, 847681\n",
    "]"
   ]
  },
  {
   "cell_type": "code",
   "execution_count": 13,
   "id": "90dbf737",
   "metadata": {},
   "outputs": [],
   "source": [
    "df = df[df['Product'].isin(required_product_codes)]"
   ]
  },
  {
   "cell_type": "code",
   "execution_count": 14,
   "id": "e882bcc5",
   "metadata": {},
   "outputs": [
    {
     "data": {
      "text/html": [
       "<div>\n",
       "<style scoped>\n",
       "    .dataframe tbody tr th:only-of-type {\n",
       "        vertical-align: middle;\n",
       "    }\n",
       "\n",
       "    .dataframe tbody tr th {\n",
       "        vertical-align: top;\n",
       "    }\n",
       "\n",
       "    .dataframe thead th {\n",
       "        text-align: right;\n",
       "    }\n",
       "</style>\n",
       "<table border=\"1\" class=\"dataframe\">\n",
       "  <thead>\n",
       "    <tr style=\"text-align: right;\">\n",
       "      <th></th>\n",
       "      <th>Year</th>\n",
       "      <th>Exporter</th>\n",
       "      <th>Importer</th>\n",
       "      <th>Product</th>\n",
       "      <th>Value</th>\n",
       "      <th>Quantity</th>\n",
       "      <th>country_code_x</th>\n",
       "      <th>Exporter_Name</th>\n",
       "      <th>country_iso2_x</th>\n",
       "      <th>country_iso3_x</th>\n",
       "      <th>country_code_y</th>\n",
       "      <th>Importer_Name</th>\n",
       "      <th>country_iso2_y</th>\n",
       "      <th>country_iso3_y</th>\n",
       "      <th>description</th>\n",
       "    </tr>\n",
       "  </thead>\n",
       "  <tbody>\n",
       "    <tr>\n",
       "      <th>64</th>\n",
       "      <td>2014</td>\n",
       "      <td>4</td>\n",
       "      <td>36</td>\n",
       "      <td>844332</td>\n",
       "      <td>24.087</td>\n",
       "      <td>0.045</td>\n",
       "      <td>4</td>\n",
       "      <td>Afghanistan</td>\n",
       "      <td>AF</td>\n",
       "      <td>AFG</td>\n",
       "      <td>36</td>\n",
       "      <td>Australia</td>\n",
       "      <td>AU</td>\n",
       "      <td>AUS</td>\n",
       "      <td>Printing, copying, and facsimile machines: sin...</td>\n",
       "    </tr>\n",
       "    <tr>\n",
       "      <th>65</th>\n",
       "      <td>2014</td>\n",
       "      <td>4</td>\n",
       "      <td>36</td>\n",
       "      <td>847130</td>\n",
       "      <td>1.869</td>\n",
       "      <td>0.002</td>\n",
       "      <td>4</td>\n",
       "      <td>Afghanistan</td>\n",
       "      <td>AF</td>\n",
       "      <td>AFG</td>\n",
       "      <td>36</td>\n",
       "      <td>Australia</td>\n",
       "      <td>AU</td>\n",
       "      <td>AUS</td>\n",
       "      <td>Automatic data processing machines: portable, ...</td>\n",
       "    </tr>\n",
       "    <tr>\n",
       "      <th>66</th>\n",
       "      <td>2014</td>\n",
       "      <td>4</td>\n",
       "      <td>36</td>\n",
       "      <td>847141</td>\n",
       "      <td>2.295</td>\n",
       "      <td>0.005</td>\n",
       "      <td>4</td>\n",
       "      <td>Afghanistan</td>\n",
       "      <td>AF</td>\n",
       "      <td>AFG</td>\n",
       "      <td>36</td>\n",
       "      <td>Australia</td>\n",
       "      <td>AU</td>\n",
       "      <td>AUS</td>\n",
       "      <td>Automatic data processing machines: comprising...</td>\n",
       "    </tr>\n",
       "    <tr>\n",
       "      <th>70</th>\n",
       "      <td>2014</td>\n",
       "      <td>4</td>\n",
       "      <td>36</td>\n",
       "      <td>851762</td>\n",
       "      <td>5.910</td>\n",
       "      <td>0.168</td>\n",
       "      <td>4</td>\n",
       "      <td>Afghanistan</td>\n",
       "      <td>AF</td>\n",
       "      <td>AFG</td>\n",
       "      <td>36</td>\n",
       "      <td>Australia</td>\n",
       "      <td>AU</td>\n",
       "      <td>AUS</td>\n",
       "      <td>Communication apparatus (excluding telephone s...</td>\n",
       "    </tr>\n",
       "    <tr>\n",
       "      <th>139</th>\n",
       "      <td>2014</td>\n",
       "      <td>4</td>\n",
       "      <td>40</td>\n",
       "      <td>846721</td>\n",
       "      <td>1.333</td>\n",
       "      <td>0.015</td>\n",
       "      <td>4</td>\n",
       "      <td>Afghanistan</td>\n",
       "      <td>AF</td>\n",
       "      <td>AFG</td>\n",
       "      <td>40</td>\n",
       "      <td>Austria</td>\n",
       "      <td>AT</td>\n",
       "      <td>AUT</td>\n",
       "      <td>Tools: for working in the hand, with self-cont...</td>\n",
       "    </tr>\n",
       "  </tbody>\n",
       "</table>\n",
       "</div>"
      ],
      "text/plain": [
       "     Year  Exporter  Importer  Product   Value  Quantity  country_code_x  \\\n",
       "64   2014         4        36   844332  24.087     0.045               4   \n",
       "65   2014         4        36   847130   1.869     0.002               4   \n",
       "66   2014         4        36   847141   2.295     0.005               4   \n",
       "70   2014         4        36   851762   5.910     0.168               4   \n",
       "139  2014         4        40   846721   1.333     0.015               4   \n",
       "\n",
       "    Exporter_Name country_iso2_x country_iso3_x  country_code_y Importer_Name  \\\n",
       "64    Afghanistan             AF            AFG              36     Australia   \n",
       "65    Afghanistan             AF            AFG              36     Australia   \n",
       "66    Afghanistan             AF            AFG              36     Australia   \n",
       "70    Afghanistan             AF            AFG              36     Australia   \n",
       "139   Afghanistan             AF            AFG              40       Austria   \n",
       "\n",
       "    country_iso2_y country_iso3_y  \\\n",
       "64              AU            AUS   \n",
       "65              AU            AUS   \n",
       "66              AU            AUS   \n",
       "70              AU            AUS   \n",
       "139             AT            AUT   \n",
       "\n",
       "                                           description  \n",
       "64   Printing, copying, and facsimile machines: sin...  \n",
       "65   Automatic data processing machines: portable, ...  \n",
       "66   Automatic data processing machines: comprising...  \n",
       "70   Communication apparatus (excluding telephone s...  \n",
       "139  Tools: for working in the hand, with self-cont...  "
      ]
     },
     "execution_count": 14,
     "metadata": {},
     "output_type": "execute_result"
    }
   ],
   "source": [
    "df.head()"
   ]
  },
  {
   "cell_type": "code",
   "execution_count": 15,
   "id": "397a8fca",
   "metadata": {},
   "outputs": [],
   "source": [
    "df_exports = df.groupby('Exporter_Name').agg({'Value': 'sum', 'Quantity': 'sum'}).reset_index()\n",
    "top_exporters = df_exports.nlargest(10, 'Value')"
   ]
  },
  {
   "cell_type": "code",
   "execution_count": 16,
   "id": "b9710a56",
   "metadata": {},
   "outputs": [
    {
     "data": {
      "image/png": "[encoded data removed]",
      "text/plain": [
       "<Figure size 1200x600 with 2 Axes>"
      ]
     },
     "metadata": {},
     "output_type": "display_data"
    }
   ],
   "source": [
    "fig, ax1 = plt.subplots(figsize=(12, 6))\n",
    "ax2 = ax1.twinx()"
   ]
  },
  {
   "cell_type": "code",
   "execution_count": 17,
   "id": "b676ec7c",
   "metadata": {},
   "outputs": [],
   "source": [
    "width = 0.4\n",
    "x = range(len(top_exporters))"
   ]
  },
  {
   "cell_type": "code",
   "execution_count": 18,
   "id": "d6ee3d0a",
   "metadata": {},
   "outputs": [
    {
     "data": {
      "text/plain": [
       "<BarContainer object of 10 artists>"
      ]
     },
     "execution_count": 18,
     "metadata": {},
     "output_type": "execute_result"
    }
   ],
   "source": [
    "ax1.bar([p - width/2 for p in x], top_exporters['Value'], width=width, color='blue', label='Export Value')\n",
    "ax2.bar([p + width/2 for p in x], top_exporters['Quantity'], width=width, color='orange', label='Export Quantity')"
   ]
  },
  {
   "cell_type": "code",
   "execution_count": 19,
   "id": "0415f871",
   "metadata": {},
   "outputs": [
    {
     "data": {
      "text/plain": [
       "Text(0.5, 1.0, 'Top 10 Exporting Countries - Value and Quantity')"
      ]
     },
     "execution_count": 19,
     "metadata": {},
     "output_type": "execute_result"
    },
    {
     "data": {
      "image/png": "[encoded data removed]",
      "text/plain": [
       "<Figure size 640x480 with 1 Axes>"
      ]
     },
     "metadata": {},
     "output_type": "display_data"
    }
   ],
   "source": [
    "ax1.set_xticks(x)\n",
    "ax1.set_xticklabels(top_exporters['Exporter_Name'], rotation=90)\n",
    "ax1.set_ylabel(\"Export Value (thousands USD)\")\n",
    "ax2.set_ylabel(\"Export Quantity (metric tons)\")\n",
    "ax1.set_xlabel(\"Exporter Country\")\n",
    "plt.title(\"Top 10 Exporting Countries - Value and Quantity\")"
   ]
  },
  {
   "cell_type": "code",
   "execution_count": 20,
   "id": "f3cca427",
   "metadata": {},
   "outputs": [],
   "source": [
    "ax1.legend(loc='upper left')\n",
    "ax2.legend(loc='upper right')\n",
    "plt.show()"
   ]
  },
  {
   "cell_type": "code",
   "execution_count": 21,
   "id": "fd3326ac",
   "metadata": {},
   "outputs": [],
   "source": [
    "df_imports = df.groupby('Importer_Name').agg({'Value': 'sum', 'Quantity': 'sum'}).reset_index()"
   ]
  },
  {
   "cell_type": "code",
   "execution_count": 22,
   "id": "4012851c",
   "metadata": {},
   "outputs": [],
   "source": [
    "top_importers = df_imports.nlargest(10, 'Value')"
   ]
  },
  {
   "cell_type": "code",
   "execution_count": 23,
   "id": "468d4c23",
   "metadata": {},
   "outputs": [
    {
     "data": {
      "image/png": "[encoded data removed]",
      "text/plain": [
       "<Figure size 1200x600 with 2 Axes>"
      ]
     },
     "metadata": {},
     "output_type": "display_data"
    }
   ],
   "source": [
    "fig, ax1 = plt.subplots(figsize=(12, 6))\n",
    "ax2 = ax1.twinx()"
   ]
  },
  {
   "cell_type": "code",
   "execution_count": 24,
   "id": "c52b21bf",
   "metadata": {},
   "outputs": [],
   "source": [
    "width = 0.4\n",
    "x = range(len(top_importers))"
   ]
  },
  {
   "cell_type": "code",
   "execution_count": 25,
   "id": "588b737a",
   "metadata": {},
   "outputs": [
    {
     "data": {
      "text/plain": [
       "<BarContainer object of 10 artists>"
      ]
     },
     "execution_count": 25,
     "metadata": {},
     "output_type": "execute_result"
    }
   ],
   "source": [
    "ax1.bar([p - width/2 for p in x], top_exporters['Value'], width=width, color='blue', label='Import Value')\n",
    "ax2.bar([p + width/2 for p in x], top_exporters['Quantity'], width=width, color='orange', label='Import Quantity')"
   ]
  },
  {
   "cell_type": "code",
   "execution_count": 26,
   "id": "37f2765c",
   "metadata": {},
   "outputs": [
    {
     "data": {
      "text/plain": [
       "Text(0.5, 1.0, 'Top 10 Importing Countries - Value and Quantity')"
      ]
     },
     "execution_count": 26,
     "metadata": {},
     "output_type": "execute_result"
    },
    {
     "data": {
      "image/png": "[encoded data removed]",
      "text/plain": [
       "<Figure size 640x480 with 1 Axes>"
      ]
     },
     "metadata": {},
     "output_type": "display_data"
    }
   ],
   "source": [
    "ax1.set_xticks(x)\n",
    "ax1.set_xticklabels(top_importers['Importer_Name'], rotation=90)\n",
    "ax1.set_ylabel(\"Import Value (thousands USD)\")\n",
    "ax2.set_ylabel(\"Import Quantity (metric tons)\")\n",
    "ax1.set_xlabel(\"Import Country\")\n",
    "plt.title(\"Top 10 Importing Countries - Value and Quantity\")"
   ]
  },
  {
   "cell_type": "code",
   "execution_count": 27,
   "id": "633db848",
   "metadata": {},
   "outputs": [],
   "source": [
    "ax1.legend(loc='upper left')\n",
    "ax2.legend(loc='upper right')\n",
    "plt.show()"
   ]
  },
  {
   "cell_type": "code",
   "execution_count": 28,
   "id": "24a0888d",
   "metadata": {},
   "outputs": [],
   "source": [
    "df_imports.rename(columns={'Value': 'Import_Value'}, inplace=True)"
   ]
  },
  {
   "cell_type": "code",
   "execution_count": 29,
   "id": "b299e2f1",
   "metadata": {},
   "outputs": [],
   "source": [
    "df_profit = df_exports.merge(df_imports, left_on='Exporter_Name', right_on='Importer_Name', how='left').fillna(0)\n",
    "df_profit['Profit'] = df_profit['Value'] - df_profit['Import_Value']"
   ]
  },
  {
   "cell_type": "code",
   "execution_count": 30,
   "id": "91383760",
   "metadata": {},
   "outputs": [],
   "source": [
    "top_profitable = df_profit.nlargest(10, 'Profit')"
   ]
  },
  {
   "cell_type": "code",
   "execution_count": 31,
   "id": "f292f46b",
   "metadata": {},
   "outputs": [
    {
     "data": {
      "image/png": "[encoded data removed]",
      "text/plain": [
       "<Figure size 1200x600 with 1 Axes>"
      ]
     },
     "metadata": {},
     "output_type": "display_data"
    }
   ],
   "source": [
    "plt.figure(figsize=(12, 6))\n",
    "sns.barplot(x='Exporter_Name', y='Profit', data=top_profitable, color='green')\n",
    "plt.xticks(rotation=90)\n",
    "plt.ylabel(\"Profit (Exports - Imports)\")\n",
    "plt.xlabel(\"Exporter Country\")\n",
    "plt.title(\"Top 10 Profitable Exporting Countries\")\n",
    "plt.show()"
   ]
  },
  {
   "cell_type": "code",
   "execution_count": 32,
   "id": "c2e014c9",
   "metadata": {},
   "outputs": [],
   "source": [
    "# Get top 10 least profitable importers\n",
    "least_profitable = df_profit.nsmallest(10, 'Profit')"
   ]
  },
  {
   "cell_type": "code",
   "execution_count": 33,
   "id": "7f501a58",
   "metadata": {},
   "outputs": [
    {
     "data": {
      "image/png": "[encoded data removed]",
      "text/plain": [
       "<Figure size 1200x600 with 1 Axes>"
      ]
     },
     "metadata": {},
     "output_type": "display_data"
    }
   ],
   "source": [
    "plt.figure(figsize=(12, 6))\n",
    "sns.barplot(x='Importer_Name', y='Profit', data=least_profitable, color='green')\n",
    "plt.xticks(rotation=90)\n",
    "plt.ylabel(\"Profit (Exports - Imports)\")\n",
    "plt.xlabel(\"Importer Country\")\n",
    "plt.title(\"10 Least Profitable Importing Countries\")\n",
    "plt.show()"
   ]
  },
  {
   "cell_type": "code",
   "execution_count": 34,
   "id": "3f86e8ac",
   "metadata": {},
   "outputs": [],
   "source": [
    "def get_top_trading_partners(country, df):\n",
    "    exports = df[df['Exporter_Name'] == country].groupby('Importer_Name').agg({'Value': 'sum'}).nlargest(5, 'Value').reset_index()\n",
    "    imports = df[df['Importer_Name'] == country].groupby('Exporter_Name').agg({'Value': 'sum'}).nlargest(5, 'Value').reset_index()\n",
    "    return exports, imports"
   ]
  },
  {
   "cell_type": "code",
   "execution_count": 35,
   "id": "ae82dbd8",
   "metadata": {},
   "outputs": [],
   "source": [
    "for country in top_profitable['Exporter_Name']:\n",
    "  top_export_partners, top_import_partners = get_top_trading_partners(country, df)"
   ]
  },
  {
   "cell_type": "code",
   "execution_count": 37,
   "id": "6b61e9ea",
   "metadata": {},
   "outputs": [
    {
     "name": "stdout",
     "output_type": "stream",
     "text": [
      "Top 5 export partners for Ireland:\n",
      "     Importer_Name         Value\n",
      "0  United Kingdom  2.155211e+07\n",
      "1         Germany  1.701901e+07\n",
      "2     Netherlands  1.318026e+07\n",
      "3          France  1.296799e+07\n",
      "4          Sweden  9.320317e+06\n",
      "Top 5 import partners for Ireland:\n",
      "     Exporter_Name         Value\n",
      "0  United Kingdom  2.466327e+07\n",
      "1           China  1.921732e+07\n",
      "2             USA  8.765344e+06\n",
      "3         Germany  8.392625e+06\n",
      "4     Netherlands  4.765946e+06\n"
     ]
    }
   ],
   "source": [
    "print(f\"Top 5 export partners for {country}:\\n\", top_export_partners)\n",
    "print(f\"Top 5 import partners for {country}:\\n\", top_import_partners)"
   ]
  },
  {
   "cell_type": "code",
   "execution_count": 38,
   "id": "23c7f938",
   "metadata": {},
   "outputs": [],
   "source": [
    "for country in least_profitable['Importer_Name']:\n",
    "  top_export_partners, top_import_partners = get_top_trading_partners(country, df)"
   ]
  },
  {
   "cell_type": "code",
   "execution_count": 40,
   "id": "dd69e7cc",
   "metadata": {},
   "outputs": [
    {
     "name": "stdout",
     "output_type": "stream",
     "text": [
      "Top 5 export partners for United Arab Emirates:\n",
      "   Importer_Name         Value\n",
      "0          Iraq  3.927284e+07\n",
      "1          Iran  2.639709e+07\n",
      "2         China  1.074838e+07\n",
      "3          Oman  9.956429e+06\n",
      "4   Afghanistan  8.214110e+06\n",
      "Top 5 import partners for United Arab Emirates:\n",
      "    Exporter_Name         Value\n",
      "0          China  2.159906e+08\n",
      "1       Viet Nam  5.260681e+07\n",
      "2            USA  1.935068e+07\n",
      "3          India  1.798945e+07\n",
      "4  Rep. of Korea  9.252726e+06\n"
     ]
    }
   ],
   "source": [
    "print(f\"Top 5 export partners for {country}:\\n\", top_export_partners)\n",
    "print(f\"Top 5 import partners for {country}:\\n\", top_import_partners)"
   ]
  },
  {
   "cell_type": "code",
   "execution_count": 41,
   "id": "f70f8151",
   "metadata": {},
   "outputs": [
    {
     "data": {
      "text/html": [
       "<div>\n",
       "<style scoped>\n",
       "    .dataframe tbody tr th:only-of-type {\n",
       "        vertical-align: middle;\n",
       "    }\n",
       "\n",
       "    .dataframe tbody tr th {\n",
       "        vertical-align: top;\n",
       "    }\n",
       "\n",
       "    .dataframe thead th {\n",
       "        text-align: right;\n",
       "    }\n",
       "</style>\n",
       "<table border=\"1\" class=\"dataframe\">\n",
       "  <thead>\n",
       "    <tr style=\"text-align: right;\">\n",
       "      <th></th>\n",
       "      <th>Exporter_Name</th>\n",
       "      <th>Value</th>\n",
       "      <th>Quantity_x</th>\n",
       "      <th>Importer_Name</th>\n",
       "      <th>Import_Value</th>\n",
       "      <th>Quantity_y</th>\n",
       "      <th>Profit</th>\n",
       "    </tr>\n",
       "  </thead>\n",
       "  <tbody>\n",
       "    <tr>\n",
       "      <th>0</th>\n",
       "      <td>Afghanistan</td>\n",
       "      <td>4.087730e+04</td>\n",
       "      <td>2831.705</td>\n",
       "      <td>Afghanistan</td>\n",
       "      <td>1.106789e+07</td>\n",
       "      <td>189564.184</td>\n",
       "      <td>-1.102701e+07</td>\n",
       "    </tr>\n",
       "    <tr>\n",
       "      <th>1</th>\n",
       "      <td>Albania</td>\n",
       "      <td>1.631109e+05</td>\n",
       "      <td>19949.346</td>\n",
       "      <td>Albania</td>\n",
       "      <td>3.536450e+06</td>\n",
       "      <td>291357.972</td>\n",
       "      <td>-3.373340e+06</td>\n",
       "    </tr>\n",
       "    <tr>\n",
       "      <th>2</th>\n",
       "      <td>Algeria</td>\n",
       "      <td>3.382657e+05</td>\n",
       "      <td>68162.785</td>\n",
       "      <td>Algeria</td>\n",
       "      <td>2.997479e+07</td>\n",
       "      <td>2002250.551</td>\n",
       "      <td>-2.963653e+07</td>\n",
       "    </tr>\n",
       "    <tr>\n",
       "      <th>3</th>\n",
       "      <td>American Samoa</td>\n",
       "      <td>1.043787e+04</td>\n",
       "      <td>216.414</td>\n",
       "      <td>American Samoa</td>\n",
       "      <td>2.288845e+04</td>\n",
       "      <td>395.692</td>\n",
       "      <td>-1.245058e+04</td>\n",
       "    </tr>\n",
       "    <tr>\n",
       "      <th>4</th>\n",
       "      <td>Andorra</td>\n",
       "      <td>1.145795e+05</td>\n",
       "      <td>3337.957</td>\n",
       "      <td>Andorra</td>\n",
       "      <td>1.404799e+06</td>\n",
       "      <td>34604.667</td>\n",
       "      <td>-1.290220e+06</td>\n",
       "    </tr>\n",
       "    <tr>\n",
       "      <th>...</th>\n",
       "      <td>...</td>\n",
       "      <td>...</td>\n",
       "      <td>...</td>\n",
       "      <td>...</td>\n",
       "      <td>...</td>\n",
       "      <td>...</td>\n",
       "      <td>...</td>\n",
       "    </tr>\n",
       "    <tr>\n",
       "      <th>222</th>\n",
       "      <td>Viet Nam</td>\n",
       "      <td>7.918991e+08</td>\n",
       "      <td>9923828.257</td>\n",
       "      <td>Viet Nam</td>\n",
       "      <td>1.519051e+08</td>\n",
       "      <td>5654744.243</td>\n",
       "      <td>6.399940e+08</td>\n",
       "    </tr>\n",
       "    <tr>\n",
       "      <th>223</th>\n",
       "      <td>Wallis and Futuna Isds</td>\n",
       "      <td>9.732090e+02</td>\n",
       "      <td>44.622</td>\n",
       "      <td>Wallis and Futuna Isds</td>\n",
       "      <td>2.468093e+04</td>\n",
       "      <td>9082.645</td>\n",
       "      <td>-2.370772e+04</td>\n",
       "    </tr>\n",
       "    <tr>\n",
       "      <th>224</th>\n",
       "      <td>Yemen</td>\n",
       "      <td>1.439128e+04</td>\n",
       "      <td>926.701</td>\n",
       "      <td>Yemen</td>\n",
       "      <td>3.007101e+06</td>\n",
       "      <td>384472.351</td>\n",
       "      <td>-2.992709e+06</td>\n",
       "    </tr>\n",
       "    <tr>\n",
       "      <th>225</th>\n",
       "      <td>Zambia</td>\n",
       "      <td>3.977712e+05</td>\n",
       "      <td>8526.775</td>\n",
       "      <td>Zambia</td>\n",
       "      <td>3.936750e+06</td>\n",
       "      <td>194379.848</td>\n",
       "      <td>-3.538979e+06</td>\n",
       "    </tr>\n",
       "    <tr>\n",
       "      <th>226</th>\n",
       "      <td>Zimbabwe</td>\n",
       "      <td>6.014013e+04</td>\n",
       "      <td>9419.739</td>\n",
       "      <td>Zimbabwe</td>\n",
       "      <td>3.168768e+06</td>\n",
       "      <td>134407.773</td>\n",
       "      <td>-3.108628e+06</td>\n",
       "    </tr>\n",
       "  </tbody>\n",
       "</table>\n",
       "<p>227 rows × 7 columns</p>\n",
       "</div>"
      ],
      "text/plain": [
       "              Exporter_Name         Value   Quantity_x  \\\n",
       "0               Afghanistan  4.087730e+04     2831.705   \n",
       "1                   Albania  1.631109e+05    19949.346   \n",
       "2                   Algeria  3.382657e+05    68162.785   \n",
       "3            American Samoa  1.043787e+04      216.414   \n",
       "4                   Andorra  1.145795e+05     3337.957   \n",
       "..                      ...           ...          ...   \n",
       "222                Viet Nam  7.918991e+08  9923828.257   \n",
       "223  Wallis and Futuna Isds  9.732090e+02       44.622   \n",
       "224                   Yemen  1.439128e+04      926.701   \n",
       "225                  Zambia  3.977712e+05     8526.775   \n",
       "226                Zimbabwe  6.014013e+04     9419.739   \n",
       "\n",
       "              Importer_Name  Import_Value   Quantity_y        Profit  \n",
       "0               Afghanistan  1.106789e+07   189564.184 -1.102701e+07  \n",
       "1                   Albania  3.536450e+06   291357.972 -3.373340e+06  \n",
       "2                   Algeria  2.997479e+07  2002250.551 -2.963653e+07  \n",
       "3            American Samoa  2.288845e+04      395.692 -1.245058e+04  \n",
       "4                   Andorra  1.404799e+06    34604.667 -1.290220e+06  \n",
       "..                      ...           ...          ...           ...  \n",
       "222                Viet Nam  1.519051e+08  5654744.243  6.399940e+08  \n",
       "223  Wallis and Futuna Isds  2.468093e+04     9082.645 -2.370772e+04  \n",
       "224                   Yemen  3.007101e+06   384472.351 -2.992709e+06  \n",
       "225                  Zambia  3.936750e+06   194379.848 -3.538979e+06  \n",
       "226                Zimbabwe  3.168768e+06   134407.773 -3.108628e+06  \n",
       "\n",
       "[227 rows x 7 columns]"
      ]
     },
     "execution_count": 41,
     "metadata": {},
     "output_type": "execute_result"
    }
   ],
   "source": [
    "df_profit"
   ]
  },
  {
   "cell_type": "code",
   "execution_count": 42,
   "id": "9b1e34cc",
   "metadata": {},
   "outputs": [],
   "source": [
    "# Load country-to-region mapping based on ISO codes\n",
    "iso_to_region = {\n",
    "    'Africa': [\"DZA\", \"AGO\", \"BEN\", \"BWA\", \"BFA\", \"BDI\", \"CPV\", \"CMR\", \"CAF\", \"TCD\", \"COM\", \"COD\", \"DJI\", \"EGY\", \"GNQ\", \"ERI\", \"SWZ\", \"ETH\", \"GAB\", \"GMB\", \"GHA\", \"GIN\", \"GNB\", \"CIV\", \"KEN\", \"LSO\", \"LBR\", \"LBY\", \"MDG\", \"MWI\", \"MLI\", \"MRT\", \"MUS\", \"MAR\", \"MOZ\", \"NAM\", \"NER\", \"NGA\", \"RWA\", \"STP\", \"SEN\", \"SYC\", \"SLE\", \"SOM\", \"ZAF\", \"SSD\", \"SDN\", \"TZA\", \"TGO\", \"TUN\", \"UGA\", \"ZMB\", \"ZWE\"],\n",
    "    'Americas': [\"ATG\", \"ARG\", \"BHS\", \"BRB\", \"BLZ\", \"BOL\", \"BRA\", \"CAN\", \"CHL\", \"COL\", \"CRI\", \"CUB\", \"DMA\", \"DOM\", \"ECU\", \"SLV\", \"GRD\", \"GTM\", \"GUY\", \"HTI\", \"HND\", \"JAM\", \"MEX\", \"NIC\", \"PAN\", \"PRY\", \"PER\", \"KNA\", \"LCA\", \"VCT\", \"SUR\", \"TTO\", \"USA\", \"URY\", \"VEN\"],\n",
    "    'Asia': [\"AFG\", \"ARM\", \"AZE\", \"BHR\", \"BGD\", \"BTN\", \"BRN\", \"KHM\", \"CHN\", \"CYP\", \"GEO\", \"IND\", \"IDN\", \"IRN\", \"IRQ\", \"ISR\", \"JPN\", \"JOR\", \"KAZ\", \"KWT\", \"KGZ\", \"LAO\", \"LBN\", \"MYS\", \"MDV\", \"MNG\", \"MMR\", \"NPL\", \"PRK\", \"OMN\", \"PAK\", \"PSE\", \"PHL\", \"QAT\", \"SAU\", \"SGP\", \"KOR\", \"LKA\", \"SYR\", \"TJK\", \"THA\", \"TLS\", \"TUR\", \"TKM\", \"ARE\", \"UZB\", \"VNM\", \"YEM\"],\n",
    "    'Europe': [\"ALB\", \"AND\", \"AUT\", \"BLR\", \"BEL\", \"BIH\", \"BGR\", \"HRV\", \"CZE\", \"DNK\", \"EST\", \"FIN\", \"FRA\", \"DEU\", \"GRC\", \"HUN\", \"ISL\", \"IRL\", \"ITA\", \"LVA\", \"LIE\", \"LTU\", \"LUX\", \"MLT\", \"MDA\", \"MCO\", \"MNE\", \"NLD\", \"MKD\", \"NOR\", \"POL\", \"PRT\", \"ROU\", \"RUS\", \"SMR\", \"SRB\", \"SVK\", \"SVN\", \"ESP\", \"SWE\", \"CHE\", \"UKR\", \"GBR\", \"VAT\"],\n",
    "    'Oceania': [\"AUS\", \"FJI\", \"KIR\", \"MHL\", \"FSM\", \"NRU\", \"NZL\", \"PLW\", \"PNG\", \"WSM\", \"SLB\", \"TON\", \"TUV\", \"VUT\"]\n",
    "}"
   ]
  },
  {
   "cell_type": "code",
   "execution_count": 43,
   "id": "5d2a604a",
   "metadata": {},
   "outputs": [],
   "source": [
    "df_regions = df"
   ]
  },
  {
   "cell_type": "code",
   "execution_count": 44,
   "id": "82563d12",
   "metadata": {},
   "outputs": [],
   "source": [
    "# Function to map ISO code to region\n",
    "def get_region(iso_code):\n",
    "    for region, iso_list in iso_to_region.items():\n",
    "        if iso_code in iso_list:\n",
    "            return region\n",
    "    return 'Other'"
   ]
  },
  {
   "cell_type": "code",
   "execution_count": 45,
   "id": "67d10de8",
   "metadata": {},
   "outputs": [],
   "source": [
    "# Assign regions using ISO codes\n",
    "df_regions['Exporter_Region'] = df_regions['country_iso3_x'].apply(get_region)\n",
    "df_regions['Importer_Region'] = df_regions['country_iso3_y'].apply(get_region)"
   ]
  },
  {
   "cell_type": "code",
   "execution_count": 46,
   "id": "dc636ba4",
   "metadata": {},
   "outputs": [],
   "source": [
    "# Split dataset by region\n",
    "# df_africa = df_regions[df_regions['Exporter_Region'] == 'Africa']\n",
    "# df_americas = df_regions[df_regions['Exporter_Region'] == 'Americas']\n",
    "# df_asia = df_regions[df_regions['Exporter_Region'] == 'Asia']\n",
    "# df_europe = df_regions[df_regions['Exporter_Region'] == 'Europe']\n",
    "# df_oceania = df_regions[df_regions['Exporter_Region'] == 'Oceania']\n",
    "df_global = df_regions"
   ]
  },
  {
   "cell_type": "code",
   "execution_count": 47,
   "id": "0e36ac69",
   "metadata": {},
   "outputs": [
    {
     "data": {
      "text/html": [
       "<div>\n",
       "<style scoped>\n",
       "    .dataframe tbody tr th:only-of-type {\n",
       "        vertical-align: middle;\n",
       "    }\n",
       "\n",
       "    .dataframe tbody tr th {\n",
       "        vertical-align: top;\n",
       "    }\n",
       "\n",
       "    .dataframe thead th {\n",
       "        text-align: right;\n",
       "    }\n",
       "</style>\n",
       "<table border=\"1\" class=\"dataframe\">\n",
       "  <thead>\n",
       "    <tr style=\"text-align: right;\">\n",
       "      <th></th>\n",
       "      <th>Year</th>\n",
       "      <th>Exporter</th>\n",
       "      <th>Importer</th>\n",
       "      <th>Product</th>\n",
       "      <th>Value</th>\n",
       "      <th>Quantity</th>\n",
       "      <th>country_code_x</th>\n",
       "      <th>Exporter_Name</th>\n",
       "      <th>country_iso2_x</th>\n",
       "      <th>country_iso3_x</th>\n",
       "      <th>country_code_y</th>\n",
       "      <th>Importer_Name</th>\n",
       "      <th>country_iso2_y</th>\n",
       "      <th>country_iso3_y</th>\n",
       "      <th>description</th>\n",
       "      <th>Exporter_Region</th>\n",
       "      <th>Importer_Region</th>\n",
       "    </tr>\n",
       "  </thead>\n",
       "  <tbody>\n",
       "    <tr>\n",
       "      <th>64</th>\n",
       "      <td>2014</td>\n",
       "      <td>4</td>\n",
       "      <td>36</td>\n",
       "      <td>844332</td>\n",
       "      <td>24.087</td>\n",
       "      <td>0.045</td>\n",
       "      <td>4</td>\n",
       "      <td>Afghanistan</td>\n",
       "      <td>AF</td>\n",
       "      <td>AFG</td>\n",
       "      <td>36</td>\n",
       "      <td>Australia</td>\n",
       "      <td>AU</td>\n",
       "      <td>AUS</td>\n",
       "      <td>Printing, copying, and facsimile machines: sin...</td>\n",
       "      <td>Asia</td>\n",
       "      <td>Oceania</td>\n",
       "    </tr>\n",
       "    <tr>\n",
       "      <th>65</th>\n",
       "      <td>2014</td>\n",
       "      <td>4</td>\n",
       "      <td>36</td>\n",
       "      <td>847130</td>\n",
       "      <td>1.869</td>\n",
       "      <td>0.002</td>\n",
       "      <td>4</td>\n",
       "      <td>Afghanistan</td>\n",
       "      <td>AF</td>\n",
       "      <td>AFG</td>\n",
       "      <td>36</td>\n",
       "      <td>Australia</td>\n",
       "      <td>AU</td>\n",
       "      <td>AUS</td>\n",
       "      <td>Automatic data processing machines: portable, ...</td>\n",
       "      <td>Asia</td>\n",
       "      <td>Oceania</td>\n",
       "    </tr>\n",
       "    <tr>\n",
       "      <th>66</th>\n",
       "      <td>2014</td>\n",
       "      <td>4</td>\n",
       "      <td>36</td>\n",
       "      <td>847141</td>\n",
       "      <td>2.295</td>\n",
       "      <td>0.005</td>\n",
       "      <td>4</td>\n",
       "      <td>Afghanistan</td>\n",
       "      <td>AF</td>\n",
       "      <td>AFG</td>\n",
       "      <td>36</td>\n",
       "      <td>Australia</td>\n",
       "      <td>AU</td>\n",
       "      <td>AUS</td>\n",
       "      <td>Automatic data processing machines: comprising...</td>\n",
       "      <td>Asia</td>\n",
       "      <td>Oceania</td>\n",
       "    </tr>\n",
       "    <tr>\n",
       "      <th>70</th>\n",
       "      <td>2014</td>\n",
       "      <td>4</td>\n",
       "      <td>36</td>\n",
       "      <td>851762</td>\n",
       "      <td>5.910</td>\n",
       "      <td>0.168</td>\n",
       "      <td>4</td>\n",
       "      <td>Afghanistan</td>\n",
       "      <td>AF</td>\n",
       "      <td>AFG</td>\n",
       "      <td>36</td>\n",
       "      <td>Australia</td>\n",
       "      <td>AU</td>\n",
       "      <td>AUS</td>\n",
       "      <td>Communication apparatus (excluding telephone s...</td>\n",
       "      <td>Asia</td>\n",
       "      <td>Oceania</td>\n",
       "    </tr>\n",
       "    <tr>\n",
       "      <th>139</th>\n",
       "      <td>2014</td>\n",
       "      <td>4</td>\n",
       "      <td>40</td>\n",
       "      <td>846721</td>\n",
       "      <td>1.333</td>\n",
       "      <td>0.015</td>\n",
       "      <td>4</td>\n",
       "      <td>Afghanistan</td>\n",
       "      <td>AF</td>\n",
       "      <td>AFG</td>\n",
       "      <td>40</td>\n",
       "      <td>Austria</td>\n",
       "      <td>AT</td>\n",
       "      <td>AUT</td>\n",
       "      <td>Tools: for working in the hand, with self-cont...</td>\n",
       "      <td>Asia</td>\n",
       "      <td>Europe</td>\n",
       "    </tr>\n",
       "    <tr>\n",
       "      <th>...</th>\n",
       "      <td>...</td>\n",
       "      <td>...</td>\n",
       "      <td>...</td>\n",
       "      <td>...</td>\n",
       "      <td>...</td>\n",
       "      <td>...</td>\n",
       "      <td>...</td>\n",
       "      <td>...</td>\n",
       "      <td>...</td>\n",
       "      <td>...</td>\n",
       "      <td>...</td>\n",
       "      <td>...</td>\n",
       "      <td>...</td>\n",
       "      <td>...</td>\n",
       "      <td>...</td>\n",
       "      <td>...</td>\n",
       "      <td>...</td>\n",
       "    </tr>\n",
       "    <tr>\n",
       "      <th>130258829</th>\n",
       "      <td>2013</td>\n",
       "      <td>894</td>\n",
       "      <td>842</td>\n",
       "      <td>847180</td>\n",
       "      <td>31.450</td>\n",
       "      <td>0.140</td>\n",
       "      <td>894</td>\n",
       "      <td>Zambia</td>\n",
       "      <td>ZM</td>\n",
       "      <td>ZMB</td>\n",
       "      <td>842</td>\n",
       "      <td>USA</td>\n",
       "      <td>US</td>\n",
       "      <td>USA</td>\n",
       "      <td>Units of automatic data processing machines: n...</td>\n",
       "      <td>Africa</td>\n",
       "      <td>Americas</td>\n",
       "    </tr>\n",
       "    <tr>\n",
       "      <th>130258845</th>\n",
       "      <td>2013</td>\n",
       "      <td>894</td>\n",
       "      <td>842</td>\n",
       "      <td>851769</td>\n",
       "      <td>0.499</td>\n",
       "      <td>0.002</td>\n",
       "      <td>894</td>\n",
       "      <td>Zambia</td>\n",
       "      <td>ZM</td>\n",
       "      <td>ZMB</td>\n",
       "      <td>842</td>\n",
       "      <td>USA</td>\n",
       "      <td>US</td>\n",
       "      <td>USA</td>\n",
       "      <td>Communication apparatus (excluding telephone s...</td>\n",
       "      <td>Africa</td>\n",
       "      <td>Americas</td>\n",
       "    </tr>\n",
       "    <tr>\n",
       "      <th>130258861</th>\n",
       "      <td>2013</td>\n",
       "      <td>894</td>\n",
       "      <td>842</td>\n",
       "      <td>902620</td>\n",
       "      <td>0.324</td>\n",
       "      <td>0.002</td>\n",
       "      <td>894</td>\n",
       "      <td>Zambia</td>\n",
       "      <td>ZM</td>\n",
       "      <td>ZMB</td>\n",
       "      <td>842</td>\n",
       "      <td>USA</td>\n",
       "      <td>US</td>\n",
       "      <td>USA</td>\n",
       "      <td>Instruments and apparatus: for measuring or ch...</td>\n",
       "      <td>Africa</td>\n",
       "      <td>Americas</td>\n",
       "    </tr>\n",
       "    <tr>\n",
       "      <th>130258862</th>\n",
       "      <td>2013</td>\n",
       "      <td>894</td>\n",
       "      <td>842</td>\n",
       "      <td>902780</td>\n",
       "      <td>2.019</td>\n",
       "      <td>0.007</td>\n",
       "      <td>894</td>\n",
       "      <td>Zambia</td>\n",
       "      <td>ZM</td>\n",
       "      <td>ZMB</td>\n",
       "      <td>842</td>\n",
       "      <td>USA</td>\n",
       "      <td>US</td>\n",
       "      <td>USA</td>\n",
       "      <td>Instruments and apparatus: for physical or che...</td>\n",
       "      <td>Africa</td>\n",
       "      <td>Americas</td>\n",
       "    </tr>\n",
       "    <tr>\n",
       "      <th>130258866</th>\n",
       "      <td>2013</td>\n",
       "      <td>894</td>\n",
       "      <td>842</td>\n",
       "      <td>903180</td>\n",
       "      <td>2.940</td>\n",
       "      <td>0.013</td>\n",
       "      <td>894</td>\n",
       "      <td>Zambia</td>\n",
       "      <td>ZM</td>\n",
       "      <td>ZMB</td>\n",
       "      <td>842</td>\n",
       "      <td>USA</td>\n",
       "      <td>US</td>\n",
       "      <td>USA</td>\n",
       "      <td>Instruments, appliances and machines: for meas...</td>\n",
       "      <td>Africa</td>\n",
       "      <td>Americas</td>\n",
       "    </tr>\n",
       "  </tbody>\n",
       "</table>\n",
       "<p>8047410 rows × 17 columns</p>\n",
       "</div>"
      ],
      "text/plain": [
       "           Year  Exporter  Importer  Product   Value  Quantity  \\\n",
       "64         2014         4        36   844332  24.087     0.045   \n",
       "65         2014         4        36   847130   1.869     0.002   \n",
       "66         2014         4        36   847141   2.295     0.005   \n",
       "70         2014         4        36   851762   5.910     0.168   \n",
       "139        2014         4        40   846721   1.333     0.015   \n",
       "...         ...       ...       ...      ...     ...       ...   \n",
       "130258829  2013       894       842   847180  31.450     0.140   \n",
       "130258845  2013       894       842   851769   0.499     0.002   \n",
       "130258861  2013       894       842   902620   0.324     0.002   \n",
       "130258862  2013       894       842   902780   2.019     0.007   \n",
       "130258866  2013       894       842   903180   2.940     0.013   \n",
       "\n",
       "           country_code_x Exporter_Name country_iso2_x country_iso3_x  \\\n",
       "64                      4   Afghanistan             AF            AFG   \n",
       "65                      4   Afghanistan             AF            AFG   \n",
       "66                      4   Afghanistan             AF            AFG   \n",
       "70                      4   Afghanistan             AF            AFG   \n",
       "139                     4   Afghanistan             AF            AFG   \n",
       "...                   ...           ...            ...            ...   \n",
       "130258829             894        Zambia             ZM            ZMB   \n",
       "130258845             894        Zambia             ZM            ZMB   \n",
       "130258861             894        Zambia             ZM            ZMB   \n",
       "130258862             894        Zambia             ZM            ZMB   \n",
       "130258866             894        Zambia             ZM            ZMB   \n",
       "\n",
       "           country_code_y Importer_Name country_iso2_y country_iso3_y  \\\n",
       "64                     36     Australia             AU            AUS   \n",
       "65                     36     Australia             AU            AUS   \n",
       "66                     36     Australia             AU            AUS   \n",
       "70                     36     Australia             AU            AUS   \n",
       "139                    40       Austria             AT            AUT   \n",
       "...                   ...           ...            ...            ...   \n",
       "130258829             842           USA             US            USA   \n",
       "130258845             842           USA             US            USA   \n",
       "130258861             842           USA             US            USA   \n",
       "130258862             842           USA             US            USA   \n",
       "130258866             842           USA             US            USA   \n",
       "\n",
       "                                                 description Exporter_Region  \\\n",
       "64         Printing, copying, and facsimile machines: sin...            Asia   \n",
       "65         Automatic data processing machines: portable, ...            Asia   \n",
       "66         Automatic data processing machines: comprising...            Asia   \n",
       "70         Communication apparatus (excluding telephone s...            Asia   \n",
       "139        Tools: for working in the hand, with self-cont...            Asia   \n",
       "...                                                      ...             ...   \n",
       "130258829  Units of automatic data processing machines: n...          Africa   \n",
       "130258845  Communication apparatus (excluding telephone s...          Africa   \n",
       "130258861  Instruments and apparatus: for measuring or ch...          Africa   \n",
       "130258862  Instruments and apparatus: for physical or che...          Africa   \n",
       "130258866  Instruments, appliances and machines: for meas...          Africa   \n",
       "\n",
       "          Importer_Region  \n",
       "64                Oceania  \n",
       "65                Oceania  \n",
       "66                Oceania  \n",
       "70                Oceania  \n",
       "139                Europe  \n",
       "...                   ...  \n",
       "130258829        Americas  \n",
       "130258845        Americas  \n",
       "130258861        Americas  \n",
       "130258862        Americas  \n",
       "130258866        Americas  \n",
       "\n",
       "[8047410 rows x 17 columns]"
      ]
     },
     "execution_count": 47,
     "metadata": {},
     "output_type": "execute_result"
    }
   ],
   "source": [
    "df_global"
   ]
  },
  {
   "cell_type": "code",
   "execution_count": 48,
   "id": "a74fc43b",
   "metadata": {},
   "outputs": [],
   "source": [
    "df_region_exports = df_global.groupby('Exporter_Region').agg({'Value': 'sum', 'Quantity': 'sum'}).reset_index()\n",
    "top_exporters = df_region_exports.nlargest(10, 'Value')"
   ]
  },
  {
   "cell_type": "code",
   "execution_count": 49,
   "id": "89af43c9",
   "metadata": {},
   "outputs": [
    {
     "data": {
      "image/png": "[encoded data removed]",
      "text/plain": [
       "<Figure size 1200x600 with 2 Axes>"
      ]
     },
     "metadata": {},
     "output_type": "display_data"
    }
   ],
   "source": [
    "fig, ax1 = plt.subplots(figsize=(12, 6))\n",
    "ax2 = ax1.twinx()"
   ]
  },
  {
   "cell_type": "code",
   "execution_count": 50,
   "id": "f659e929",
   "metadata": {},
   "outputs": [],
   "source": [
    "width = 0.4\n",
    "x = range(len(top_exporters))"
   ]
  },
  {
   "cell_type": "code",
   "execution_count": 51,
   "id": "c8554a44",
   "metadata": {},
   "outputs": [
    {
     "data": {
      "text/plain": [
       "<BarContainer object of 6 artists>"
      ]
     },
     "execution_count": 51,
     "metadata": {},
     "output_type": "execute_result"
    }
   ],
   "source": [
    "ax1.bar([p - width/2 for p in x], top_exporters['Value'], width=width, color='blue', label='Export Value')\n",
    "ax2.bar([p + width/2 for p in x], top_exporters['Quantity'], width=width, color='orange', label='Export Quantity')"
   ]
  },
  {
   "cell_type": "code",
   "execution_count": 52,
   "id": "5acacc63",
   "metadata": {},
   "outputs": [
    {
     "data": {
      "text/plain": [
       "Text(0.5, 1.0, 'Top Exporting Regions - Value and Quantity')"
      ]
     },
     "execution_count": 52,
     "metadata": {},
     "output_type": "execute_result"
    },
    {
     "data": {
      "image/png": "[encoded data removed]",
      "text/plain": [
       "<Figure size 640x480 with 1 Axes>"
      ]
     },
     "metadata": {},
     "output_type": "display_data"
    }
   ],
   "source": [
    "ax1.set_xticks(x)\n",
    "ax1.set_xticklabels(top_exporters['Exporter_Region'], rotation=90)\n",
    "ax1.set_ylabel(\"Export Value (thousands USD)\")\n",
    "ax2.set_ylabel(\"Export Quantity (metric tons)\")\n",
    "ax1.set_xlabel(\"Exporter Country\")\n",
    "plt.title(\"Top Exporting Regions - Value and Quantity\")"
   ]
  },
  {
   "cell_type": "code",
   "execution_count": 53,
   "id": "59d7df01",
   "metadata": {},
   "outputs": [],
   "source": [
    "ax1.legend(loc='upper left')\n",
    "ax2.legend(loc='upper right')\n",
    "plt.show()"
   ]
  },
  {
   "cell_type": "code",
   "execution_count": 54,
   "id": "f28e6941",
   "metadata": {},
   "outputs": [],
   "source": [
    "df_region_imports = df.groupby('Importer_Region').agg({'Value': 'sum', 'Quantity': 'sum'}).reset_index()"
   ]
  },
  {
   "cell_type": "code",
   "execution_count": 55,
   "id": "f8a62830",
   "metadata": {},
   "outputs": [],
   "source": [
    "top_importers = df_region_imports.nlargest(10, 'Value')"
   ]
  },
  {
   "cell_type": "code",
   "execution_count": 56,
   "id": "2ff7cf18",
   "metadata": {},
   "outputs": [
    {
     "data": {
      "image/png": "[encoded data removed]",
      "text/plain": [
       "<Figure size 1200x600 with 2 Axes>"
      ]
     },
     "metadata": {},
     "output_type": "display_data"
    }
   ],
   "source": [
    "fig, ax1 = plt.subplots(figsize=(12, 6))\n",
    "ax2 = ax1.twinx()"
   ]
  },
  {
   "cell_type": "code",
   "execution_count": 57,
   "id": "a8191c16",
   "metadata": {},
   "outputs": [],
   "source": [
    "width = 0.4\n",
    "x = range(len(top_importers))"
   ]
  },
  {
   "cell_type": "code",
   "execution_count": 58,
   "id": "ddc331be",
   "metadata": {},
   "outputs": [
    {
     "data": {
      "text/plain": [
       "<BarContainer object of 6 artists>"
      ]
     },
     "execution_count": 58,
     "metadata": {},
     "output_type": "execute_result"
    }
   ],
   "source": [
    "ax1.bar([p - width/2 for p in x], top_exporters['Value'], width=width, color='blue', label='Import Value')\n",
    "ax2.bar([p + width/2 for p in x], top_exporters['Quantity'], width=width, color='orange', label='Import Quantity')"
   ]
  },
  {
   "cell_type": "code",
   "execution_count": 59,
   "id": "20be1c93",
   "metadata": {},
   "outputs": [
    {
     "data": {
      "text/plain": [
       "Text(0.5, 1.0, 'Top Importing Regions - Value and Quantity')"
      ]
     },
     "execution_count": 59,
     "metadata": {},
     "output_type": "execute_result"
    },
    {
     "data": {
      "image/png": "[encoded data removed]",
      "text/plain": [
       "<Figure size 640x480 with 1 Axes>"
      ]
     },
     "metadata": {},
     "output_type": "display_data"
    }
   ],
   "source": [
    "ax1.set_xticks(x)\n",
    "ax1.set_xticklabels(top_importers['Importer_Region'], rotation=90)\n",
    "ax1.set_ylabel(\"Import Value (thousands USD)\")\n",
    "ax2.set_ylabel(\"Import Quantity (metric tons)\")\n",
    "ax1.set_xlabel(\"Import Country\")\n",
    "plt.title(\"Top Importing Regions - Value and Quantity\")"
   ]
  },
  {
   "cell_type": "code",
   "execution_count": 60,
   "id": "19a9f8ed",
   "metadata": {},
   "outputs": [],
   "source": [
    "ax1.legend(loc='upper left')\n",
    "ax2.legend(loc='upper right')\n",
    "plt.show()"
   ]
  },
  {
   "cell_type": "code",
   "execution_count": 61,
   "id": "03c4c660",
   "metadata": {},
   "outputs": [],
   "source": [
    "df_region_imports.rename(columns={'Value': 'Import_Value'}, inplace=True)"
   ]
  },
  {
   "cell_type": "code",
   "execution_count": 62,
   "id": "2f8a1303",
   "metadata": {},
   "outputs": [],
   "source": [
    "df_profit = df_region_exports.merge(df_region_imports, left_on='Exporter_Region', right_on='Importer_Region', how='left').fillna(0)\n",
    "df_profit['Profit'] = df_profit['Value'] - df_profit['Import_Value']"
   ]
  },
  {
   "cell_type": "code",
   "execution_count": 63,
   "id": "f6c04443",
   "metadata": {},
   "outputs": [],
   "source": [
    "top_profitable = df_profit.nlargest(10, 'Profit')"
   ]
  },
  {
   "cell_type": "code",
   "execution_count": 64,
   "id": "db7b89bb",
   "metadata": {},
   "outputs": [
    {
     "data": {
      "image/png": "[encoded data removed]",
      "text/plain": [
       "<Figure size 1200x600 with 1 Axes>"
      ]
     },
     "metadata": {},
     "output_type": "display_data"
    }
   ],
   "source": [
    "plt.figure(figsize=(12, 6))\n",
    "sns.barplot(x='Exporter_Region', y='Profit', data=top_profitable, color='green')\n",
    "plt.xticks(rotation=90)\n",
    "plt.ylabel(\"Profit (Exports - Imports)\")\n",
    "plt.xlabel(\"Region\")\n",
    "plt.title(\"Profitable Regions\")\n",
    "plt.show()"
   ]
  },
  {
   "cell_type": "code",
   "execution_count": 65,
   "id": "55525840",
   "metadata": {},
   "outputs": [],
   "source": [
    "def get_top_trading_partners(region, df):\n",
    "    exports = df_global[df_global['Exporter_Region'] == region].groupby('Importer_Region').agg({'Value': 'sum'}).nlargest(5, 'Value').reset_index()\n",
    "    imports = df_global[df_global['Importer_Region'] == region].groupby('Exporter_Region').agg({'Value': 'sum'}).nlargest(5, 'Value').reset_index()\n",
    "    return exports, imports"
   ]
  },
  {
   "cell_type": "code",
   "execution_count": 66,
   "id": "c760fd8f",
   "metadata": {},
   "outputs": [],
   "source": [
    "for region in top_profitable['Exporter_Region']:\n",
    "  top_export_partners, top_import_partners = get_top_trading_partners(region, df)"
   ]
  },
  {
   "cell_type": "code",
   "execution_count": 68,
   "id": "dfeb2d98",
   "metadata": {},
   "outputs": [
    {
     "name": "stdout",
     "output_type": "stream",
     "text": [
      "Top 5 export regions for Americas:\n",
      "   Importer_Region         Value\n",
      "0        Americas  1.266250e+09\n",
      "1            Asia  3.241945e+08\n",
      "2          Europe  3.121594e+08\n",
      "3           Other  8.577019e+07\n",
      "4         Oceania  3.810520e+07\n",
      "Top 5 import regions for Americas:\n",
      "   Exporter_Region         Value\n",
      "0            Asia  3.782842e+09\n",
      "1        Americas  1.266250e+09\n",
      "2          Europe  3.471013e+08\n",
      "3           Other  1.939201e+08\n",
      "4         Oceania  8.065490e+06\n"
     ]
    }
   ],
   "source": [
    "print(f\"Top 5 export regions for {region}:\\n\", top_export_partners)\n",
    "print(f\"Top 5 import regions for {region}:\\n\", top_import_partners)"
   ]
  },
  {
   "cell_type": "code",
   "execution_count": 69,
   "id": "1f97eefd",
   "metadata": {},
   "outputs": [
    {
     "data": {
      "text/html": [
       "<div>\n",
       "<style scoped>\n",
       "    .dataframe tbody tr th:only-of-type {\n",
       "        vertical-align: middle;\n",
       "    }\n",
       "\n",
       "    .dataframe tbody tr th {\n",
       "        vertical-align: top;\n",
       "    }\n",
       "\n",
       "    .dataframe thead th {\n",
       "        text-align: right;\n",
       "    }\n",
       "</style>\n",
       "<table border=\"1\" class=\"dataframe\">\n",
       "  <thead>\n",
       "    <tr style=\"text-align: right;\">\n",
       "      <th></th>\n",
       "      <th>Year</th>\n",
       "      <th>Exporter</th>\n",
       "      <th>Importer</th>\n",
       "      <th>Product</th>\n",
       "      <th>Value</th>\n",
       "      <th>Quantity</th>\n",
       "      <th>country_code_x</th>\n",
       "      <th>Exporter_Name</th>\n",
       "      <th>country_iso2_x</th>\n",
       "      <th>country_iso3_x</th>\n",
       "      <th>country_code_y</th>\n",
       "      <th>Importer_Name</th>\n",
       "      <th>country_iso2_y</th>\n",
       "      <th>country_iso3_y</th>\n",
       "      <th>description</th>\n",
       "      <th>Exporter_Region</th>\n",
       "      <th>Importer_Region</th>\n",
       "    </tr>\n",
       "  </thead>\n",
       "  <tbody>\n",
       "    <tr>\n",
       "      <th>64</th>\n",
       "      <td>2014</td>\n",
       "      <td>4</td>\n",
       "      <td>36</td>\n",
       "      <td>844332</td>\n",
       "      <td>24.087</td>\n",
       "      <td>0.045</td>\n",
       "      <td>4</td>\n",
       "      <td>Afghanistan</td>\n",
       "      <td>AF</td>\n",
       "      <td>AFG</td>\n",
       "      <td>36</td>\n",
       "      <td>Australia</td>\n",
       "      <td>AU</td>\n",
       "      <td>AUS</td>\n",
       "      <td>Printing, copying, and facsimile machines: sin...</td>\n",
       "      <td>Asia</td>\n",
       "      <td>Oceania</td>\n",
       "    </tr>\n",
       "    <tr>\n",
       "      <th>65</th>\n",
       "      <td>2014</td>\n",
       "      <td>4</td>\n",
       "      <td>36</td>\n",
       "      <td>847130</td>\n",
       "      <td>1.869</td>\n",
       "      <td>0.002</td>\n",
       "      <td>4</td>\n",
       "      <td>Afghanistan</td>\n",
       "      <td>AF</td>\n",
       "      <td>AFG</td>\n",
       "      <td>36</td>\n",
       "      <td>Australia</td>\n",
       "      <td>AU</td>\n",
       "      <td>AUS</td>\n",
       "      <td>Automatic data processing machines: portable, ...</td>\n",
       "      <td>Asia</td>\n",
       "      <td>Oceania</td>\n",
       "    </tr>\n",
       "    <tr>\n",
       "      <th>66</th>\n",
       "      <td>2014</td>\n",
       "      <td>4</td>\n",
       "      <td>36</td>\n",
       "      <td>847141</td>\n",
       "      <td>2.295</td>\n",
       "      <td>0.005</td>\n",
       "      <td>4</td>\n",
       "      <td>Afghanistan</td>\n",
       "      <td>AF</td>\n",
       "      <td>AFG</td>\n",
       "      <td>36</td>\n",
       "      <td>Australia</td>\n",
       "      <td>AU</td>\n",
       "      <td>AUS</td>\n",
       "      <td>Automatic data processing machines: comprising...</td>\n",
       "      <td>Asia</td>\n",
       "      <td>Oceania</td>\n",
       "    </tr>\n",
       "    <tr>\n",
       "      <th>70</th>\n",
       "      <td>2014</td>\n",
       "      <td>4</td>\n",
       "      <td>36</td>\n",
       "      <td>851762</td>\n",
       "      <td>5.910</td>\n",
       "      <td>0.168</td>\n",
       "      <td>4</td>\n",
       "      <td>Afghanistan</td>\n",
       "      <td>AF</td>\n",
       "      <td>AFG</td>\n",
       "      <td>36</td>\n",
       "      <td>Australia</td>\n",
       "      <td>AU</td>\n",
       "      <td>AUS</td>\n",
       "      <td>Communication apparatus (excluding telephone s...</td>\n",
       "      <td>Asia</td>\n",
       "      <td>Oceania</td>\n",
       "    </tr>\n",
       "    <tr>\n",
       "      <th>139</th>\n",
       "      <td>2014</td>\n",
       "      <td>4</td>\n",
       "      <td>40</td>\n",
       "      <td>846721</td>\n",
       "      <td>1.333</td>\n",
       "      <td>0.015</td>\n",
       "      <td>4</td>\n",
       "      <td>Afghanistan</td>\n",
       "      <td>AF</td>\n",
       "      <td>AFG</td>\n",
       "      <td>40</td>\n",
       "      <td>Austria</td>\n",
       "      <td>AT</td>\n",
       "      <td>AUT</td>\n",
       "      <td>Tools: for working in the hand, with self-cont...</td>\n",
       "      <td>Asia</td>\n",
       "      <td>Europe</td>\n",
       "    </tr>\n",
       "    <tr>\n",
       "      <th>...</th>\n",
       "      <td>...</td>\n",
       "      <td>...</td>\n",
       "      <td>...</td>\n",
       "      <td>...</td>\n",
       "      <td>...</td>\n",
       "      <td>...</td>\n",
       "      <td>...</td>\n",
       "      <td>...</td>\n",
       "      <td>...</td>\n",
       "      <td>...</td>\n",
       "      <td>...</td>\n",
       "      <td>...</td>\n",
       "      <td>...</td>\n",
       "      <td>...</td>\n",
       "      <td>...</td>\n",
       "      <td>...</td>\n",
       "      <td>...</td>\n",
       "    </tr>\n",
       "    <tr>\n",
       "      <th>130258829</th>\n",
       "      <td>2013</td>\n",
       "      <td>894</td>\n",
       "      <td>842</td>\n",
       "      <td>847180</td>\n",
       "      <td>31.450</td>\n",
       "      <td>0.140</td>\n",
       "      <td>894</td>\n",
       "      <td>Zambia</td>\n",
       "      <td>ZM</td>\n",
       "      <td>ZMB</td>\n",
       "      <td>842</td>\n",
       "      <td>USA</td>\n",
       "      <td>US</td>\n",
       "      <td>USA</td>\n",
       "      <td>Units of automatic data processing machines: n...</td>\n",
       "      <td>Africa</td>\n",
       "      <td>Americas</td>\n",
       "    </tr>\n",
       "    <tr>\n",
       "      <th>130258845</th>\n",
       "      <td>2013</td>\n",
       "      <td>894</td>\n",
       "      <td>842</td>\n",
       "      <td>851769</td>\n",
       "      <td>0.499</td>\n",
       "      <td>0.002</td>\n",
       "      <td>894</td>\n",
       "      <td>Zambia</td>\n",
       "      <td>ZM</td>\n",
       "      <td>ZMB</td>\n",
       "      <td>842</td>\n",
       "      <td>USA</td>\n",
       "      <td>US</td>\n",
       "      <td>USA</td>\n",
       "      <td>Communication apparatus (excluding telephone s...</td>\n",
       "      <td>Africa</td>\n",
       "      <td>Americas</td>\n",
       "    </tr>\n",
       "    <tr>\n",
       "      <th>130258861</th>\n",
       "      <td>2013</td>\n",
       "      <td>894</td>\n",
       "      <td>842</td>\n",
       "      <td>902620</td>\n",
       "      <td>0.324</td>\n",
       "      <td>0.002</td>\n",
       "      <td>894</td>\n",
       "      <td>Zambia</td>\n",
       "      <td>ZM</td>\n",
       "      <td>ZMB</td>\n",
       "      <td>842</td>\n",
       "      <td>USA</td>\n",
       "      <td>US</td>\n",
       "      <td>USA</td>\n",
       "      <td>Instruments and apparatus: for measuring or ch...</td>\n",
       "      <td>Africa</td>\n",
       "      <td>Americas</td>\n",
       "    </tr>\n",
       "    <tr>\n",
       "      <th>130258862</th>\n",
       "      <td>2013</td>\n",
       "      <td>894</td>\n",
       "      <td>842</td>\n",
       "      <td>902780</td>\n",
       "      <td>2.019</td>\n",
       "      <td>0.007</td>\n",
       "      <td>894</td>\n",
       "      <td>Zambia</td>\n",
       "      <td>ZM</td>\n",
       "      <td>ZMB</td>\n",
       "      <td>842</td>\n",
       "      <td>USA</td>\n",
       "      <td>US</td>\n",
       "      <td>USA</td>\n",
       "      <td>Instruments and apparatus: for physical or che...</td>\n",
       "      <td>Africa</td>\n",
       "      <td>Americas</td>\n",
       "    </tr>\n",
       "    <tr>\n",
       "      <th>130258866</th>\n",
       "      <td>2013</td>\n",
       "      <td>894</td>\n",
       "      <td>842</td>\n",
       "      <td>903180</td>\n",
       "      <td>2.940</td>\n",
       "      <td>0.013</td>\n",
       "      <td>894</td>\n",
       "      <td>Zambia</td>\n",
       "      <td>ZM</td>\n",
       "      <td>ZMB</td>\n",
       "      <td>842</td>\n",
       "      <td>USA</td>\n",
       "      <td>US</td>\n",
       "      <td>USA</td>\n",
       "      <td>Instruments, appliances and machines: for meas...</td>\n",
       "      <td>Africa</td>\n",
       "      <td>Americas</td>\n",
       "    </tr>\n",
       "  </tbody>\n",
       "</table>\n",
       "<p>8047410 rows × 17 columns</p>\n",
       "</div>"
      ],
      "text/plain": [
       "           Year  Exporter  Importer  Product   Value  Quantity  \\\n",
       "64         2014         4        36   844332  24.087     0.045   \n",
       "65         2014         4        36   847130   1.869     0.002   \n",
       "66         2014         4        36   847141   2.295     0.005   \n",
       "70         2014         4        36   851762   5.910     0.168   \n",
       "139        2014         4        40   846721   1.333     0.015   \n",
       "...         ...       ...       ...      ...     ...       ...   \n",
       "130258829  2013       894       842   847180  31.450     0.140   \n",
       "130258845  2013       894       842   851769   0.499     0.002   \n",
       "130258861  2013       894       842   902620   0.324     0.002   \n",
       "130258862  2013       894       842   902780   2.019     0.007   \n",
       "130258866  2013       894       842   903180   2.940     0.013   \n",
       "\n",
       "           country_code_x Exporter_Name country_iso2_x country_iso3_x  \\\n",
       "64                      4   Afghanistan             AF            AFG   \n",
       "65                      4   Afghanistan             AF            AFG   \n",
       "66                      4   Afghanistan             AF            AFG   \n",
       "70                      4   Afghanistan             AF            AFG   \n",
       "139                     4   Afghanistan             AF            AFG   \n",
       "...                   ...           ...            ...            ...   \n",
       "130258829             894        Zambia             ZM            ZMB   \n",
       "130258845             894        Zambia             ZM            ZMB   \n",
       "130258861             894        Zambia             ZM            ZMB   \n",
       "130258862             894        Zambia             ZM            ZMB   \n",
       "130258866             894        Zambia             ZM            ZMB   \n",
       "\n",
       "           country_code_y Importer_Name country_iso2_y country_iso3_y  \\\n",
       "64                     36     Australia             AU            AUS   \n",
       "65                     36     Australia             AU            AUS   \n",
       "66                     36     Australia             AU            AUS   \n",
       "70                     36     Australia             AU            AUS   \n",
       "139                    40       Austria             AT            AUT   \n",
       "...                   ...           ...            ...            ...   \n",
       "130258829             842           USA             US            USA   \n",
       "130258845             842           USA             US            USA   \n",
       "130258861             842           USA             US            USA   \n",
       "130258862             842           USA             US            USA   \n",
       "130258866             842           USA             US            USA   \n",
       "\n",
       "                                                 description Exporter_Region  \\\n",
       "64         Printing, copying, and facsimile machines: sin...            Asia   \n",
       "65         Automatic data processing machines: portable, ...            Asia   \n",
       "66         Automatic data processing machines: comprising...            Asia   \n",
       "70         Communication apparatus (excluding telephone s...            Asia   \n",
       "139        Tools: for working in the hand, with self-cont...            Asia   \n",
       "...                                                      ...             ...   \n",
       "130258829  Units of automatic data processing machines: n...          Africa   \n",
       "130258845  Communication apparatus (excluding telephone s...          Africa   \n",
       "130258861  Instruments and apparatus: for measuring or ch...          Africa   \n",
       "130258862  Instruments and apparatus: for physical or che...          Africa   \n",
       "130258866  Instruments, appliances and machines: for meas...          Africa   \n",
       "\n",
       "          Importer_Region  \n",
       "64                Oceania  \n",
       "65                Oceania  \n",
       "66                Oceania  \n",
       "70                Oceania  \n",
       "139                Europe  \n",
       "...                   ...  \n",
       "130258829        Americas  \n",
       "130258845        Americas  \n",
       "130258861        Americas  \n",
       "130258862        Americas  \n",
       "130258866        Americas  \n",
       "\n",
       "[8047410 rows x 17 columns]"
      ]
     },
     "execution_count": 69,
     "metadata": {},
     "output_type": "execute_result"
    }
   ],
   "source": [
    "df_global"
   ]
  },
  {
   "cell_type": "code",
   "execution_count": 70,
   "id": "7eb00229",
   "metadata": {},
   "outputs": [],
   "source": [
    "df_profit = df_global.groupby(['Year', 'Exporter_Region'], as_index=False)['Value'].sum()\n",
    "df_imports = df_global.groupby(['Year', 'Importer_Region'], as_index=False)['Value'].sum()\n",
    "df_imports.rename(columns={'Value': 'Import_Value', 'Importer_Region': 'Exporter_Region'}, inplace=True)"
   ]
  },
  {
   "cell_type": "code",
   "execution_count": 71,
   "id": "2e2352a6",
   "metadata": {},
   "outputs": [],
   "source": [
    "# Merge exports and imports to calculate profit per region per year\n",
    "df_profit = df_profit.merge(df_imports, on=['Year', 'Exporter_Region'], how='left').fillna(0)\n",
    "df_profit['Profit'] = df_profit['Value'] - df_profit['Import_Value']"
   ]
  },
  {
   "cell_type": "code",
   "execution_count": 72,
   "id": "788d1fca",
   "metadata": {},
   "outputs": [
    {
     "data": {
      "text/plain": [
       "<Figure size 1200x600 with 0 Axes>"
      ]
     },
     "execution_count": 72,
     "metadata": {},
     "output_type": "execute_result"
    },
    {
     "data": {
      "text/plain": [
       "<Figure size 1200x600 with 0 Axes>"
      ]
     },
     "metadata": {},
     "output_type": "display_data"
    }
   ],
   "source": [
    "plt.figure(figsize=(12, 6))"
   ]
  },
  {
   "cell_type": "code",
   "execution_count": 73,
   "id": "75c6968c",
   "metadata": {},
   "outputs": [],
   "source": [
    "regions = ['Americas', 'Africa', 'Europe', 'Oceania', 'Asia', 'Global', 'Other']"
   ]
  },
  {
   "cell_type": "code",
   "execution_count": 74,
   "id": "47e35d7c",
   "metadata": {},
   "outputs": [],
   "source": [
    "for region in regions:\n",
    "    df_region = df_profit[df_profit['Exporter_Region'] == region]"
   ]
  },
  {
   "cell_type": "code",
   "execution_count": 75,
   "id": "ad6751e9",
   "metadata": {},
   "outputs": [
    {
     "data": {
      "image/png": "[encoded data removed]",
      "text/plain": [
       "<Figure size 640x480 with 1 Axes>"
      ]
     },
     "metadata": {},
     "output_type": "display_data"
    }
   ],
   "source": [
    "if not df_region.empty:  # Ensure the dataframe is not empty before plotting\n",
    "        plt.plot(df_region['Year'], df_region['Profit'], marker='o', label=region)"
   ]
  },
  {
   "cell_type": "code",
   "execution_count": 76,
   "id": "360b4145",
   "metadata": {},
   "outputs": [
    {
     "name": "stderr",
     "output_type": "stream",
     "text": [
      "/var/folders/13/n1l89mln5nvdj5127ntt9yj40000gs/T/ipykernel_91774/1238627577.py:4: UserWarning: No artists with labels found to put in legend.  Note that artists whose label start with an underscore are ignored when legend() is called with no argument.\n",
      "  plt.legend()\n"
     ]
    },
    {
     "data": {
      "image/png": "[encoded data removed]",
      "text/plain": [
       "<Figure size 640x480 with 1 Axes>"
      ]
     },
     "metadata": {},
     "output_type": "display_data"
    }
   ],
   "source": [
    "plt.xlabel('Year')\n",
    "plt.ylabel('Profit')\n",
    "plt.title('Change in Profit Over Time by Region')\n",
    "plt.legend()\n",
    "plt.grid()\n",
    "plt.show()"
   ]
  },
  {
   "cell_type": "code",
   "execution_count": 77,
   "id": "8b6050ec",
   "metadata": {},
   "outputs": [],
   "source": [
    "import pandas as pd"
   ]
  },
  {
   "cell_type": "code",
   "execution_count": 78,
   "id": "6a9f102c",
   "metadata": {},
   "outputs": [],
   "source": [
    "data = {\n",
    "    \"Indicator\": [\n",
    "        \"Waste generation (Mt) - Total e-waste\",\n",
    "        \"Waste generation (Mt) - Embedded Waste Printed Circuit Board\",\n",
    "        \"Environmental sound collection and recycling (Mt) - Total e-waste\",\n",
    "        \"Environmental sound collection and recycling (Mt) - Printed Circuit Board Waste\",\n",
    "        \"Not environmental sound managed e-waste (Mt) - Total e-waste\",\n",
    "        \"Not environmental sound managed e-waste (Mt) - Embedded and Printed Circuit Board Waste\",\n",
    "        \"Environmental sound collection and recycling rates - Total e-waste\",\n",
    "        \"Environmental sound collection and recycling rates - Printed Circuit Board Waste\",\n",
    "        \"Not environmental sound managed rates - Total e-waste\",\n",
    "        \"Not environmental sound managed rates - Printed Circuit Board Waste\",\n",
    "        \"Total Exports (kt)\",\n",
    "        \"Controlled - E-waste reported as hazardous\",\n",
    "        \"Controlled - Printed Circuit Board Waste\",\n",
    "        \"Uncontrolled - Undocumented exports of mixed used EEE and e-waste\",\n",
    "        \"Total Imports (kt)\",\n",
    "        \"Controlled - E-waste reported as hazardous\",\n",
    "        \"Controlled - Printed Circuit Board Waste\",\n",
    "        \"Uncontrolled - Undocumented exports of mixed used EEE and e-waste\",\n",
    "        \"Inhabitants (Million)\"\n",
    "    ],\n",
    "    \"Africa\": [2.9, 0.1, 0.03, 0.01, 2.9, 0.1, \"1%\", \"13%\", \"99%\", \"87%\", 132, 12, 7, 113, 546, 19, 0, 527, 1152],\n",
    "    \"Americas\": [13.1, 0.3, 1.2, 0.1, 11.9, 0.2, \"9%\", \"44%\", \"91%\", \"56%\", 547, 31, 128, 388, 393, 24, 65, 305, 984],\n",
    "    \"Asia\": [24.9, 0.6, 2.9, 0.1, 22.0, 0.5, \"12%\", \"17%\", \"88%\", \"83%\", 2537, 1038, 36, 1463, 2889, 964, 111, 1814, 4445],\n",
    "    \"Europe\": [12.0, 0.3, 5.1, 0.2, 6.9, 0.1, \"42%\", \"61%\", \"58%\", \"39%\", 1850, 375, 184, 1290, 1248, 457, 172, 619, 740],\n",
    "    \"Oceania\": [0.7, 0.01, 0.06, 0.005, 0.6, 0.01, \"9%\", \"31%\", \"91%\", \"69%\", 21, 8, 4, 10, 0, 0, 0, 0, 42],\n",
    "    \"Global\": [53.6, 1.2, 9.3, 0.4, 44.3, 0.8, \"17%\", \"34%\", \"83%\", \"66%\", 5086, 1464, 358, 3264, 5076, 1464, 348, 3264, 7363]\n",
    "}"
   ]
  },
  {
   "cell_type": "code",
   "execution_count": 79,
   "id": "84e77dae",
   "metadata": {},
   "outputs": [],
   "source": [
    "# Create DataFrame\n",
    "df_pdf = pd.DataFrame(data)"
   ]
  },
  {
   "cell_type": "code",
   "execution_count": 80,
   "id": "fc8c75fc",
   "metadata": {},
   "outputs": [
    {
     "data": {
      "text/html": [
       "<div>\n",
       "<style scoped>\n",
       "    .dataframe tbody tr th:only-of-type {\n",
       "        vertical-align: middle;\n",
       "    }\n",
       "\n",
       "    .dataframe tbody tr th {\n",
       "        vertical-align: top;\n",
       "    }\n",
       "\n",
       "    .dataframe thead th {\n",
       "        text-align: right;\n",
       "    }\n",
       "</style>\n",
       "<table border=\"1\" class=\"dataframe\">\n",
       "  <thead>\n",
       "    <tr style=\"text-align: right;\">\n",
       "      <th></th>\n",
       "      <th>Indicator</th>\n",
       "      <th>Africa</th>\n",
       "      <th>Americas</th>\n",
       "      <th>Asia</th>\n",
       "      <th>Europe</th>\n",
       "      <th>Oceania</th>\n",
       "      <th>Global</th>\n",
       "    </tr>\n",
       "  </thead>\n",
       "  <tbody>\n",
       "    <tr>\n",
       "      <th>0</th>\n",
       "      <td>Waste generation (Mt) - Total e-waste</td>\n",
       "      <td>2.9</td>\n",
       "      <td>13.1</td>\n",
       "      <td>24.9</td>\n",
       "      <td>12.0</td>\n",
       "      <td>0.7</td>\n",
       "      <td>53.6</td>\n",
       "    </tr>\n",
       "    <tr>\n",
       "      <th>1</th>\n",
       "      <td>Waste generation (Mt) - Embedded Waste Printed...</td>\n",
       "      <td>0.1</td>\n",
       "      <td>0.3</td>\n",
       "      <td>0.6</td>\n",
       "      <td>0.3</td>\n",
       "      <td>0.01</td>\n",
       "      <td>1.2</td>\n",
       "    </tr>\n",
       "    <tr>\n",
       "      <th>2</th>\n",
       "      <td>Environmental sound collection and recycling (...</td>\n",
       "      <td>0.03</td>\n",
       "      <td>1.2</td>\n",
       "      <td>2.9</td>\n",
       "      <td>5.1</td>\n",
       "      <td>0.06</td>\n",
       "      <td>9.3</td>\n",
       "    </tr>\n",
       "    <tr>\n",
       "      <th>3</th>\n",
       "      <td>Environmental sound collection and recycling (...</td>\n",
       "      <td>0.01</td>\n",
       "      <td>0.1</td>\n",
       "      <td>0.1</td>\n",
       "      <td>0.2</td>\n",
       "      <td>0.005</td>\n",
       "      <td>0.4</td>\n",
       "    </tr>\n",
       "    <tr>\n",
       "      <th>4</th>\n",
       "      <td>Not environmental sound managed e-waste (Mt) -...</td>\n",
       "      <td>2.9</td>\n",
       "      <td>11.9</td>\n",
       "      <td>22.0</td>\n",
       "      <td>6.9</td>\n",
       "      <td>0.6</td>\n",
       "      <td>44.3</td>\n",
       "    </tr>\n",
       "    <tr>\n",
       "      <th>5</th>\n",
       "      <td>Not environmental sound managed e-waste (Mt) -...</td>\n",
       "      <td>0.1</td>\n",
       "      <td>0.2</td>\n",
       "      <td>0.5</td>\n",
       "      <td>0.1</td>\n",
       "      <td>0.01</td>\n",
       "      <td>0.8</td>\n",
       "    </tr>\n",
       "    <tr>\n",
       "      <th>6</th>\n",
       "      <td>Environmental sound collection and recycling r...</td>\n",
       "      <td>1%</td>\n",
       "      <td>9%</td>\n",
       "      <td>12%</td>\n",
       "      <td>42%</td>\n",
       "      <td>9%</td>\n",
       "      <td>17%</td>\n",
       "    </tr>\n",
       "    <tr>\n",
       "      <th>7</th>\n",
       "      <td>Environmental sound collection and recycling r...</td>\n",
       "      <td>13%</td>\n",
       "      <td>44%</td>\n",
       "      <td>17%</td>\n",
       "      <td>61%</td>\n",
       "      <td>31%</td>\n",
       "      <td>34%</td>\n",
       "    </tr>\n",
       "    <tr>\n",
       "      <th>8</th>\n",
       "      <td>Not environmental sound managed rates - Total ...</td>\n",
       "      <td>99%</td>\n",
       "      <td>91%</td>\n",
       "      <td>88%</td>\n",
       "      <td>58%</td>\n",
       "      <td>91%</td>\n",
       "      <td>83%</td>\n",
       "    </tr>\n",
       "    <tr>\n",
       "      <th>9</th>\n",
       "      <td>Not environmental sound managed rates - Printe...</td>\n",
       "      <td>87%</td>\n",
       "      <td>56%</td>\n",
       "      <td>83%</td>\n",
       "      <td>39%</td>\n",
       "      <td>69%</td>\n",
       "      <td>66%</td>\n",
       "    </tr>\n",
       "    <tr>\n",
       "      <th>10</th>\n",
       "      <td>Total Exports (kt)</td>\n",
       "      <td>132</td>\n",
       "      <td>547</td>\n",
       "      <td>2537</td>\n",
       "      <td>1850</td>\n",
       "      <td>21</td>\n",
       "      <td>5086</td>\n",
       "    </tr>\n",
       "    <tr>\n",
       "      <th>11</th>\n",
       "      <td>Controlled - E-waste reported as hazardous</td>\n",
       "      <td>12</td>\n",
       "      <td>31</td>\n",
       "      <td>1038</td>\n",
       "      <td>375</td>\n",
       "      <td>8</td>\n",
       "      <td>1464</td>\n",
       "    </tr>\n",
       "    <tr>\n",
       "      <th>12</th>\n",
       "      <td>Controlled - Printed Circuit Board Waste</td>\n",
       "      <td>7</td>\n",
       "      <td>128</td>\n",
       "      <td>36</td>\n",
       "      <td>184</td>\n",
       "      <td>4</td>\n",
       "      <td>358</td>\n",
       "    </tr>\n",
       "    <tr>\n",
       "      <th>13</th>\n",
       "      <td>Uncontrolled - Undocumented exports of mixed u...</td>\n",
       "      <td>113</td>\n",
       "      <td>388</td>\n",
       "      <td>1463</td>\n",
       "      <td>1290</td>\n",
       "      <td>10</td>\n",
       "      <td>3264</td>\n",
       "    </tr>\n",
       "    <tr>\n",
       "      <th>14</th>\n",
       "      <td>Total Imports (kt)</td>\n",
       "      <td>546</td>\n",
       "      <td>393</td>\n",
       "      <td>2889</td>\n",
       "      <td>1248</td>\n",
       "      <td>0</td>\n",
       "      <td>5076</td>\n",
       "    </tr>\n",
       "    <tr>\n",
       "      <th>15</th>\n",
       "      <td>Controlled - E-waste reported as hazardous</td>\n",
       "      <td>19</td>\n",
       "      <td>24</td>\n",
       "      <td>964</td>\n",
       "      <td>457</td>\n",
       "      <td>0</td>\n",
       "      <td>1464</td>\n",
       "    </tr>\n",
       "    <tr>\n",
       "      <th>16</th>\n",
       "      <td>Controlled - Printed Circuit Board Waste</td>\n",
       "      <td>0</td>\n",
       "      <td>65</td>\n",
       "      <td>111</td>\n",
       "      <td>172</td>\n",
       "      <td>0</td>\n",
       "      <td>348</td>\n",
       "    </tr>\n",
       "    <tr>\n",
       "      <th>17</th>\n",
       "      <td>Uncontrolled - Undocumented exports of mixed u...</td>\n",
       "      <td>527</td>\n",
       "      <td>305</td>\n",
       "      <td>1814</td>\n",
       "      <td>619</td>\n",
       "      <td>0</td>\n",
       "      <td>3264</td>\n",
       "    </tr>\n",
       "    <tr>\n",
       "      <th>18</th>\n",
       "      <td>Inhabitants (Million)</td>\n",
       "      <td>1152</td>\n",
       "      <td>984</td>\n",
       "      <td>4445</td>\n",
       "      <td>740</td>\n",
       "      <td>42</td>\n",
       "      <td>7363</td>\n",
       "    </tr>\n",
       "  </tbody>\n",
       "</table>\n",
       "</div>"
      ],
      "text/plain": [
       "                                            Indicator Africa Americas  Asia  \\\n",
       "0               Waste generation (Mt) - Total e-waste    2.9     13.1  24.9   \n",
       "1   Waste generation (Mt) - Embedded Waste Printed...    0.1      0.3   0.6   \n",
       "2   Environmental sound collection and recycling (...   0.03      1.2   2.9   \n",
       "3   Environmental sound collection and recycling (...   0.01      0.1   0.1   \n",
       "4   Not environmental sound managed e-waste (Mt) -...    2.9     11.9  22.0   \n",
       "5   Not environmental sound managed e-waste (Mt) -...    0.1      0.2   0.5   \n",
       "6   Environmental sound collection and recycling r...     1%       9%   12%   \n",
       "7   Environmental sound collection and recycling r...    13%      44%   17%   \n",
       "8   Not environmental sound managed rates - Total ...    99%      91%   88%   \n",
       "9   Not environmental sound managed rates - Printe...    87%      56%   83%   \n",
       "10                                 Total Exports (kt)    132      547  2537   \n",
       "11         Controlled - E-waste reported as hazardous     12       31  1038   \n",
       "12           Controlled - Printed Circuit Board Waste      7      128    36   \n",
       "13  Uncontrolled - Undocumented exports of mixed u...    113      388  1463   \n",
       "14                                 Total Imports (kt)    546      393  2889   \n",
       "15         Controlled - E-waste reported as hazardous     19       24   964   \n",
       "16           Controlled - Printed Circuit Board Waste      0       65   111   \n",
       "17  Uncontrolled - Undocumented exports of mixed u...    527      305  1814   \n",
       "18                              Inhabitants (Million)   1152      984  4445   \n",
       "\n",
       "   Europe Oceania Global  \n",
       "0    12.0     0.7   53.6  \n",
       "1     0.3    0.01    1.2  \n",
       "2     5.1    0.06    9.3  \n",
       "3     0.2   0.005    0.4  \n",
       "4     6.9     0.6   44.3  \n",
       "5     0.1    0.01    0.8  \n",
       "6     42%      9%    17%  \n",
       "7     61%     31%    34%  \n",
       "8     58%     91%    83%  \n",
       "9     39%     69%    66%  \n",
       "10   1850      21   5086  \n",
       "11    375       8   1464  \n",
       "12    184       4    358  \n",
       "13   1290      10   3264  \n",
       "14   1248       0   5076  \n",
       "15    457       0   1464  \n",
       "16    172       0    348  \n",
       "17    619       0   3264  \n",
       "18    740      42   7363  "
      ]
     },
     "execution_count": 80,
     "metadata": {},
     "output_type": "execute_result"
    }
   ],
   "source": [
    "df_pdf"
   ]
  },
  {
   "cell_type": "code",
   "execution_count": 81,
   "id": "7369ba89",
   "metadata": {},
   "outputs": [
    {
     "name": "stdout",
     "output_type": "stream",
     "text": [
      "Collecting statsmodels\n",
      "  Using cached statsmodels-0.14.4-cp313-cp313-macosx_11_0_arm64.whl.metadata (9.2 kB)\n",
      "Requirement already satisfied: numpy<3,>=1.22.3 in /Users/pranavgunhal/Downloads/e-waste research /venv/lib/python3.13/site-packages (from statsmodels) (2.2.5)\n",
      "Collecting scipy!=1.9.2,>=1.8 (from statsmodels)\n",
      "  Using cached scipy-1.15.2-cp313-cp313-macosx_14_0_arm64.whl.metadata (61 kB)\n",
      "Requirement already satisfied: pandas!=2.1.0,>=1.4 in /Users/pranavgunhal/Downloads/e-waste research /venv/lib/python3.13/site-packages (from statsmodels) (2.2.3)\n",
      "Collecting patsy>=0.5.6 (from statsmodels)\n",
      "  Using cached patsy-1.0.1-py2.py3-none-any.whl.metadata (3.3 kB)\n",
      "Requirement already satisfied: packaging>=21.3 in /Users/pranavgunhal/Downloads/e-waste research /venv/lib/python3.13/site-packages (from statsmodels) (25.0)\n",
      "Requirement already satisfied: python-dateutil>=2.8.2 in /Users/pranavgunhal/Downloads/e-waste research /venv/lib/python3.13/site-packages (from pandas!=2.1.0,>=1.4->statsmodels) (2.9.0.post0)\n",
      "Requirement already satisfied: pytz>=2020.1 in /Users/pranavgunhal/Downloads/e-waste research /venv/lib/python3.13/site-packages (from pandas!=2.1.0,>=1.4->statsmodels) (2025.2)\n",
      "Requirement already satisfied: tzdata>=2022.7 in /Users/pranavgunhal/Downloads/e-waste research /venv/lib/python3.13/site-packages (from pandas!=2.1.0,>=1.4->statsmodels) (2025.2)\n",
      "Requirement already satisfied: six>=1.5 in /Users/pranavgunhal/Downloads/e-waste research /venv/lib/python3.13/site-packages (from python-dateutil>=2.8.2->pandas!=2.1.0,>=1.4->statsmodels) (1.17.0)\n",
      "Using cached statsmodels-0.14.4-cp313-cp313-macosx_11_0_arm64.whl (9.9 MB)\n",
      "Using cached patsy-1.0.1-py2.py3-none-any.whl (232 kB)\n",
      "Using cached scipy-1.15.2-cp313-cp313-macosx_14_0_arm64.whl (22.4 MB)\n",
      "Installing collected packages: scipy, patsy, statsmodels\n",
      "Successfully installed patsy-1.0.1 scipy-1.15.2 statsmodels-0.14.4\n",
      "\n",
      "\u001b[1m[\u001b[0m\u001b[34;49mnotice\u001b[0m\u001b[1;39;49m]\u001b[0m\u001b[39;49m A new release of pip is available: \u001b[0m\u001b[31;49m24.3.1\u001b[0m\u001b[39;49m -> \u001b[0m\u001b[32;49m25.1\u001b[0m\n",
      "\u001b[1m[\u001b[0m\u001b[34;49mnotice\u001b[0m\u001b[1;39;49m]\u001b[0m\u001b[39;49m To update, run: \u001b[0m\u001b[32;49mpip install --upgrade pip\u001b[0m\n",
      "Note: you may need to restart the kernel to use updated packages.\n"
     ]
    }
   ],
   "source": [
    "pip install statsmodels"
   ]
  },
  {
   "cell_type": "code",
   "execution_count": 82,
   "id": "3e9e4fce",
   "metadata": {},
   "outputs": [
    {
     "data": {
      "text/html": [
       "<div>\n",
       "<style scoped>\n",
       "    .dataframe tbody tr th:only-of-type {\n",
       "        vertical-align: middle;\n",
       "    }\n",
       "\n",
       "    .dataframe tbody tr th {\n",
       "        vertical-align: top;\n",
       "    }\n",
       "\n",
       "    .dataframe thead th {\n",
       "        text-align: right;\n",
       "    }\n",
       "</style>\n",
       "<table border=\"1\" class=\"dataframe\">\n",
       "  <thead>\n",
       "    <tr style=\"text-align: right;\">\n",
       "      <th></th>\n",
       "      <th>Year</th>\n",
       "      <th>Exporter_Region</th>\n",
       "      <th>Value</th>\n",
       "      <th>Import_Value</th>\n",
       "      <th>Profit</th>\n",
       "    </tr>\n",
       "  </thead>\n",
       "  <tbody>\n",
       "    <tr>\n",
       "      <th>0</th>\n",
       "      <td>2012</td>\n",
       "      <td>Africa</td>\n",
       "      <td>3.437542e+06</td>\n",
       "      <td>3.149831e+07</td>\n",
       "      <td>-2.806077e+07</td>\n",
       "    </tr>\n",
       "    <tr>\n",
       "      <th>1</th>\n",
       "      <td>2012</td>\n",
       "      <td>Americas</td>\n",
       "      <td>1.635804e+08</td>\n",
       "      <td>4.169321e+08</td>\n",
       "      <td>-2.533517e+08</td>\n",
       "    </tr>\n",
       "    <tr>\n",
       "      <th>2</th>\n",
       "      <td>2012</td>\n",
       "      <td>Asia</td>\n",
       "      <td>8.702066e+08</td>\n",
       "      <td>3.335256e+08</td>\n",
       "      <td>5.366810e+08</td>\n",
       "    </tr>\n",
       "    <tr>\n",
       "      <th>3</th>\n",
       "      <td>2012</td>\n",
       "      <td>Europe</td>\n",
       "      <td>3.114920e+08</td>\n",
       "      <td>4.761382e+08</td>\n",
       "      <td>-1.646463e+08</td>\n",
       "    </tr>\n",
       "    <tr>\n",
       "      <th>4</th>\n",
       "      <td>2012</td>\n",
       "      <td>Oceania</td>\n",
       "      <td>2.790268e+06</td>\n",
       "      <td>3.051315e+07</td>\n",
       "      <td>-2.772288e+07</td>\n",
       "    </tr>\n",
       "    <tr>\n",
       "      <th>...</th>\n",
       "      <td>...</td>\n",
       "      <td>...</td>\n",
       "      <td>...</td>\n",
       "      <td>...</td>\n",
       "      <td>...</td>\n",
       "    </tr>\n",
       "    <tr>\n",
       "      <th>67</th>\n",
       "      <td>2023</td>\n",
       "      <td>Americas</td>\n",
       "      <td>1.944589e+08</td>\n",
       "      <td>5.314596e+08</td>\n",
       "      <td>-3.370007e+08</td>\n",
       "    </tr>\n",
       "    <tr>\n",
       "      <th>68</th>\n",
       "      <td>2023</td>\n",
       "      <td>Asia</td>\n",
       "      <td>1.171816e+09</td>\n",
       "      <td>4.821404e+08</td>\n",
       "      <td>6.896757e+08</td>\n",
       "    </tr>\n",
       "    <tr>\n",
       "      <th>69</th>\n",
       "      <td>2023</td>\n",
       "      <td>Europe</td>\n",
       "      <td>3.853046e+08</td>\n",
       "      <td>6.394276e+08</td>\n",
       "      <td>-2.541229e+08</td>\n",
       "    </tr>\n",
       "    <tr>\n",
       "      <th>70</th>\n",
       "      <td>2023</td>\n",
       "      <td>Oceania</td>\n",
       "      <td>2.966169e+06</td>\n",
       "      <td>3.704638e+07</td>\n",
       "      <td>-3.408021e+07</td>\n",
       "    </tr>\n",
       "    <tr>\n",
       "      <th>71</th>\n",
       "      <td>2023</td>\n",
       "      <td>Other</td>\n",
       "      <td>8.132882e+07</td>\n",
       "      <td>1.145469e+08</td>\n",
       "      <td>-3.321805e+07</td>\n",
       "    </tr>\n",
       "  </tbody>\n",
       "</table>\n",
       "<p>72 rows × 5 columns</p>\n",
       "</div>"
      ],
      "text/plain": [
       "    Year Exporter_Region         Value  Import_Value        Profit\n",
       "0   2012          Africa  3.437542e+06  3.149831e+07 -2.806077e+07\n",
       "1   2012        Americas  1.635804e+08  4.169321e+08 -2.533517e+08\n",
       "2   2012            Asia  8.702066e+08  3.335256e+08  5.366810e+08\n",
       "3   2012          Europe  3.114920e+08  4.761382e+08 -1.646463e+08\n",
       "4   2012         Oceania  2.790268e+06  3.051315e+07 -2.772288e+07\n",
       "..   ...             ...           ...           ...           ...\n",
       "67  2023        Americas  1.944589e+08  5.314596e+08 -3.370007e+08\n",
       "68  2023            Asia  1.171816e+09  4.821404e+08  6.896757e+08\n",
       "69  2023          Europe  3.853046e+08  6.394276e+08 -2.541229e+08\n",
       "70  2023         Oceania  2.966169e+06  3.704638e+07 -3.408021e+07\n",
       "71  2023           Other  8.132882e+07  1.145469e+08 -3.321805e+07\n",
       "\n",
       "[72 rows x 5 columns]"
      ]
     },
     "execution_count": 82,
     "metadata": {},
     "output_type": "execute_result"
    }
   ],
   "source": [
    "df_profit"
   ]
  },
  {
   "cell_type": "code",
   "execution_count": 83,
   "id": "af3ba5d8",
   "metadata": {},
   "outputs": [],
   "source": [
    "from statsmodels.tsa.holtwinters import ExponentialSmoothing\n",
    "regions = ['Americas', 'Africa', 'Europe', 'Oceania', 'Asia', 'Global', 'Other']"
   ]
  },
  {
   "cell_type": "code",
   "execution_count": 84,
   "id": "6da8303d",
   "metadata": {},
   "outputs": [],
   "source": [
    "for region in regions:\n",
    "    df_region = df_profit[df_profit['Exporter_Region'] == region]"
   ]
  },
  {
   "cell_type": "code",
   "execution_count": 87,
   "id": "a70b0f80",
   "metadata": {},
   "outputs": [
    {
     "name": "stderr",
     "output_type": "stream",
     "text": [
      "/Users/pranavgunhal/Downloads/e-waste research /venv/lib/python3.13/site-packages/statsmodels/tsa/base/tsa_model.py:473: ValueWarning: An unsupported index was provided. As a result, forecasts cannot be generated. To use the model for forecasting, use one of the supported classes of index.\n",
      "  self._init_dates(dates, freq)\n",
      "/Users/pranavgunhal/Downloads/e-waste research /venv/lib/python3.13/site-packages/statsmodels/tsa/holtwinters/model.py:918: ConvergenceWarning: Optimization failed to converge. Check mle_retvals.\n",
      "  warnings.warn(\n"
     ]
    }
   ],
   "source": [
    "if df_region.empty:\n",
    "    print(f\"No data available for region: {region}\")\n",
    "else:\n",
    "    # Fit Exponential Smoothing Model\n",
    "    model = ExponentialSmoothing(df_region['Profit'], trend='add', seasonal=None, damped_trend=True)\n",
    "    model_fit = model.fit()"
   ]
  },
  {
   "cell_type": "code",
   "execution_count": 89,
   "id": "cd250d10",
   "metadata": {},
   "outputs": [
    {
     "name": "stderr",
     "output_type": "stream",
     "text": [
      "/Users/pranavgunhal/Downloads/e-waste research /venv/lib/python3.13/site-packages/statsmodels/tsa/base/tsa_model.py:837: ValueWarning: No supported index is available. Prediction results will be given with an integer index beginning at `start`.\n",
      "  return get_prediction_index(\n",
      "/Users/pranavgunhal/Downloads/e-waste research /venv/lib/python3.13/site-packages/statsmodels/tsa/base/tsa_model.py:837: FutureWarning: No supported index is available. In the next version, calling this method in a model without a supported index will result in an exception.\n",
      "  return get_prediction_index(\n"
     ]
    }
   ],
   "source": [
    "# Forecast next 5 years\n",
    "forecast_years = 5\n",
    "future_years = list(range(df_region['Year'].max() + 1, df_region['Year'].max() + 1 + forecast_years))\n",
    "forecast = model_fit.forecast(steps=forecast_years)"
   ]
  },
  {
   "cell_type": "code",
   "execution_count": 90,
   "id": "fe65ca0f",
   "metadata": {},
   "outputs": [
    {
     "data": {
      "image/png": "[encoded data removed]",
      "text/plain": [
       "<Figure size 1200x600 with 1 Axes>"
      ]
     },
     "metadata": {},
     "output_type": "display_data"
    }
   ],
   "source": [
    "# Plot actual vs forecasted profit\n",
    "plt.figure(figsize=(12, 6))\n",
    "plt.plot(df_region['Year'], df_region['Profit'], marker='o', label='Actual Profit')\n",
    "plt.plot(future_years, forecast, marker='o', linestyle='dashed', label='Forecasted Profit')\n",
    "plt.xlabel('Year')\n",
    "plt.ylabel('Profit')\n",
    "plt.title(f'Profit Forecast for {region}')\n",
    "plt.legend()\n",
    "plt.grid()\n",
    "plt.show()"
   ]
  },
  {
   "cell_type": "code",
   "execution_count": 91,
   "id": "da94f690",
   "metadata": {},
   "outputs": [],
   "source": [
    "# ==============================================\n",
    "# ADDITIONAL LOGIC TO REPLACE HARDCODED HNUs\n",
    "# AND GENERATE PIPELINE-SPECIFIC SANKEYS\n",
    "# =============================================="
   ]
  },
  {
   "cell_type": "code",
   "execution_count": 92,
   "id": "08c58fd4",
   "metadata": {},
   "outputs": [],
   "source": [
    "# Load and classify HS codes by lifecycle stage from the mining metadata\n",
    "mining_df = pd.read_csv(\"Data - Mining-HSCodes.csv\")\n",
    "mining_df = mining_df[pd.to_numeric(mining_df[\"HS Code\"], errors=\"coerce\").notnull()]\n",
    "mining_df[\"HS Code\"] = mining_df[\"HS Code\"].astype(int)"
   ]
  },
  {
   "cell_type": "code",
   "execution_count": 93,
   "id": "d50b38ef",
   "metadata": {},
   "outputs": [],
   "source": [
    "def classify_stage(form):\n",
    "    form = str(form).lower()\n",
    "    if \"ore\" in form or \"concentrate\" in form:\n",
    "        return \"Mining\"\n",
    "    elif \"refined\" in form or \"carbonate\" in form or \"hydroxide\" in form:\n",
    "        return \"Refining\"\n",
    "    elif \"unwrought\" in form or \"intermediate\" in form:\n",
    "        return \"Manufacturing\"\n",
    "    elif \"articles\" in form or \"compounds\" in form:\n",
    "        return \"Assembly\"\n",
    "    else:\n",
    "        return \"Other\""
   ]
  },
  {
   "cell_type": "code",
   "execution_count": 94,
   "id": "fd8d50ba",
   "metadata": {},
   "outputs": [],
   "source": [
    "mining_df[\"Stage\"] = mining_df[\"Form\"].apply(classify_stage)\n",
    "stage_hscode_map = mining_df.groupby(\"Stage\")[\"HS Code\"].apply(list).to_dict()"
   ]
  },
  {
   "cell_type": "code",
   "execution_count": 95,
   "id": "237f8e57",
   "metadata": {},
   "outputs": [],
   "source": [
    "# Replace the hardcoded required_product_codes with one stage at a time\n",
    "import plotly.graph_objects as go"
   ]
  },
  {
   "cell_type": "code",
   "execution_count": 99,
   "id": "d5aee726",
   "metadata": {},
   "outputs": [],
   "source": [
    "def generate_sankey_for_stage(stage_name, hs_codes, df, mining_df):\n",
    "    print(f\"\\n====== GENERATING SANKEY FOR: {stage_name} ======\\n\")\n",
    "    filtered_df = df[df[\"Product\"].isin(hs_codes)]\n",
    "    enriched_df = filtered_df.merge(mining_df[[\"HS Code\", \"Mineral/Metal\", \"Form\"]], \n",
    "                                    left_on=\"Product\", right_on=\"HS Code\", how=\"left\")\n",
    "    enriched_df[\"Material\"] = enriched_df[\"Mineral/Metal\"] + \" (\" + enriched_df[\"Form\"] + \")\"\n",
    "    all_labels = pd.Series(\n",
    "        pd.concat([enriched_df[\"Material\"], enriched_df[\"Exporter_Name\"], enriched_df[\"Importer_Name\"]])\n",
    "        .unique()\n",
    "    ).reset_index(drop=True)\n",
    "    label_to_index = {label: i for i, label in enumerate(all_labels)}\n",
    "    source, target, value = [], [], []\n",
    "    for _, row in enriched_df.iterrows():\n",
    "        mat = row[\"Material\"]\n",
    "        exporter = row[\"Exporter_Name\"]\n",
    "        importer = row[\"Importer_Name\"]\n",
    "        val = row[\"Value\"]\n",
    "    source.append(label_to_index[mat])\n",
    "    target.append(label_to_index[exporter])\n",
    "    value.append(val)\n",
    "    source.append(label_to_index[exporter])\n",
    "    target.append(label_to_index[importer])\n",
    "    value.append(val)\n",
    "    fig = go.Figure(data=[go.Sankey(\n",
    "        node=dict(\n",
    "            pad=15,\n",
    "            thickness=20,\n",
    "            line=dict(color=\"black\", width=0.5),\n",
    "            label=all_labels.tolist()\n",
    "        ),\n",
    "        link=dict(\n",
    "            source=source,\n",
    "            target=target,\n",
    "            value=value\n",
    "        ))])\n",
    "    fig.update_layout(title_text=f\"{stage_name} Material Flow Sankey\", font_size=10)\n",
    "    fig.show()"
   ]
  },
  {
   "cell_type": "code",
   "execution_count": 100,
   "id": "a51931e6",
   "metadata": {},
   "outputs": [
    {
     "name": "stdout",
     "output_type": "stream",
     "text": [
      "\n",
      "====== GENERATING SANKEY FOR: Mining ======\n",
      "\n"
     ]
    },
    {
     "ename": "UnboundLocalError",
     "evalue": "cannot access local variable 'mat' where it is not associated with a value",
     "output_type": "error",
     "traceback": [
      "\u001b[31m---------------------------------------------------------------------------\u001b[39m",
      "\u001b[31mUnboundLocalError\u001b[39m                         Traceback (most recent call last)",
      "\u001b[36mCell\u001b[39m\u001b[36m \u001b[39m\u001b[32mIn[100]\u001b[39m\u001b[32m, line 5\u001b[39m\n\u001b[32m      3\u001b[39m \u001b[38;5;28;01mif\u001b[39;00m stage \u001b[38;5;129;01min\u001b[39;00m stage_hscode_map:\n\u001b[32m      4\u001b[39m     current_hs_list = stage_hscode_map[stage]\n\u001b[32m----> \u001b[39m\u001b[32m5\u001b[39m     \u001b[43mgenerate_sankey_for_stage\u001b[49m\u001b[43m(\u001b[49m\u001b[43mstage\u001b[49m\u001b[43m,\u001b[49m\u001b[43m \u001b[49m\u001b[43mcurrent_hs_list\u001b[49m\u001b[43m,\u001b[49m\u001b[43m \u001b[49m\u001b[43mdf\u001b[49m\u001b[43m,\u001b[49m\u001b[43m \u001b[49m\u001b[43mmining_df\u001b[49m\u001b[43m)\u001b[49m\n",
      "\u001b[36mCell\u001b[39m\u001b[36m \u001b[39m\u001b[32mIn[99]\u001b[39m\u001b[32m, line 18\u001b[39m, in \u001b[36mgenerate_sankey_for_stage\u001b[39m\u001b[34m(stage_name, hs_codes, df, mining_df)\u001b[39m\n\u001b[32m     16\u001b[39m     importer = row[\u001b[33m\"\u001b[39m\u001b[33mImporter_Name\u001b[39m\u001b[33m\"\u001b[39m]\n\u001b[32m     17\u001b[39m     val = row[\u001b[33m\"\u001b[39m\u001b[33mValue\u001b[39m\u001b[33m\"\u001b[39m]\n\u001b[32m---> \u001b[39m\u001b[32m18\u001b[39m source.append(label_to_index[\u001b[43mmat\u001b[49m])\n\u001b[32m     19\u001b[39m target.append(label_to_index[exporter])\n\u001b[32m     20\u001b[39m value.append(val)\n",
      "\u001b[31mUnboundLocalError\u001b[39m: cannot access local variable 'mat' where it is not associated with a value"
     ]
    }
   ],
   "source": [
    "# RUN for each pipeline\n",
    "for stage in [\"Mining\", \"Refining\", \"Manufacturing\", \"Assembly\"]:\n",
    "    if stage in stage_hscode_map:\n",
    "        current_hs_list = stage_hscode_map[stage]\n",
    "        generate_sankey_for_stage(stage, current_hs_list, df, mining_df)"
   ]
  },
  {
   "cell_type": "code",
   "execution_count": null,
   "id": "368384b7-6308-47b6-bcb0-1439185540c7",
   "metadata": {},
   "outputs": [],
   "source": []
  }
 ],
 "metadata": {
  "kernelspec": {
   "display_name": "Python (venv)",
   "language": "python",
   "name": "venv"
  },
  "language_info": {
   "codemirror_mode": {
    "name": "ipython",
    "version": 3
   },
   "file_extension": ".py",
   "mimetype": "text/x-python",
   "name": "python",
   "nbconvert_exporter": "python",
   "pygments_lexer": "ipython3",
   "version": "3.13.1"
  }
 },
 "nbformat": 4,
 "nbformat_minor": 5
}
