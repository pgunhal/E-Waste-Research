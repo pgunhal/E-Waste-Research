{
 "cells": [
  {
   "cell_type": "markdown",
   "id": "4821e3f7",
   "metadata": {},
   "source": [
    "##Sankey Plots##\n",
    "script to generate sankey plots based on a csv file\n",
    "\n",
    "Date: 5/9/25"
   ]
  },
  {
   "cell_type": "code",
   "execution_count": null,
   "id": "33edb49f",
   "metadata": {},
   "outputs": [],
   "source": [
    "\n",
    "import pandas as pd\n",
    "import plotly.graph_objects as go\n"
   ]
  },
  {
   "cell_type": "code",
   "execution_count": null,
   "id": "1955d8c6",
   "metadata": {},
   "outputs": [],
   "source": [
    "\n",
    "df_ore_extraction = pd.read_csv(\"Ore_Extraction.csv\")\n",
    "df_refining = pd.read_csv(\"Refining.csv\")\n",
    "df_manufacturing = pd.read_csv(\"Manufacturing.csv\")\n",
    "df_mining = pd.read_csv(\"Mining.csv\")\n",
    "\n",
    "dfs = [\n",
    "    (\"Ore Extraction\", df_ore_extraction),\n",
    "    (\"Refining\", df_refining),\n",
    "    (\"Manufacturing\", df_manufacturing),\n",
    "    (\"Mining\", df_mining)\n",
    "]\n"
   ]
  },
  {
   "cell_type": "code",
   "execution_count": null,
   "id": "4bdeec27",
   "metadata": {},
   "outputs": [],
   "source": [
    "\n",
    "for name, df_subset in dfs:\n",
    "    print(f\"\\n==== Generating Sankey for: {name} ====\")\n",
    "\n",
    "    df_subset = df_subset.copy()\n",
    "    df_subset = df_subset[df_subset[\"Exporter_Name\"].notnull() & df_subset[\"Importer_Name\"].notnull()]\n",
    "    \n",
    "    all_countries = pd.Series(\n",
    "        pd.concat([df_subset[\"Exporter_Name\"], df_subset[\"Importer_Name\"]]).unique()\n",
    "    ).reset_index(drop=True)\n",
    "\n",
    "    label_to_index = {label: i for i, label in enumerate(all_countries)}\n",
    "\n",
    "    source = df_subset[\"Exporter_Name\"].map(label_to_index)\n",
    "    target = df_subset[\"Importer_Name\"].map(label_to_index)\n",
    "    value = df_subset[\"Value\"]\n",
    "\n",
    "    fig = go.Figure(data=[go.Sankey(\n",
    "        node=dict(\n",
    "            pad=15,\n",
    "            thickness=20,\n",
    "            line=dict(color=\"black\", width=0.5),\n",
    "            label=all_countries.tolist()\n",
    "        ),\n",
    "        link=dict(\n",
    "            source=source,\n",
    "            target=target,\n",
    "            value=value\n",
    "        )\n",
    "    )])\n",
    "\n",
    "    fig.update_layout(title_text=f\"Sankey Diagram - {name}\", font_size=10)\n",
    "    fig.show()\n"
   ]
  }
 ],
 "metadata": {
  "kernelspec": {
   "display_name": "Python (venv)",
   "language": "python",
   "name": "venv"
  },
  "language_info": {
   "codemirror_mode": {
    "name": "ipython",
    "version": 3
   },
   "file_extension": ".py",
   "mimetype": "text/x-python",
   "name": "python",
   "nbconvert_exporter": "python",
   "pygments_lexer": "ipython3",
   "version": "3.13.1"
  }
 },
 "nbformat": 4,
 "nbformat_minor": 5
}
